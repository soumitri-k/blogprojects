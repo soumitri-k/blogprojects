{
 "cells": [
  {
   "cell_type": "code",
   "execution_count": 1,
   "id": "ea69966a",
   "metadata": {},
   "outputs": [
    {
     "name": "stderr",
     "output_type": "stream",
     "text": [
      "\u001b[32m\u001b[1m   Resolving\u001b[22m\u001b[39m package versions...\n",
      "\u001b[32m\u001b[1m  No Changes\u001b[22m\u001b[39m to `C:\\Users\\soumi\\.julia\\environments\\v1.10\\Project.toml`\n",
      "\u001b[32m\u001b[1m  No Changes\u001b[22m\u001b[39m to `C:\\Users\\soumi\\.julia\\environments\\v1.10\\Manifest.toml`\n",
      "\u001b[32m\u001b[1mPrecompiling\u001b[22m\u001b[39m project...\n",
      "\u001b[33m  ? \u001b[39mLathe\n",
      "\u001b[32m\u001b[1m   Resolving\u001b[22m\u001b[39m package versions...\n",
      "\u001b[32m\u001b[1m  No Changes\u001b[22m\u001b[39m to `C:\\Users\\soumi\\.julia\\environments\\v1.10\\Project.toml`\n",
      "\u001b[32m\u001b[1m  No Changes\u001b[22m\u001b[39m to `C:\\Users\\soumi\\.julia\\environments\\v1.10\\Manifest.toml`\n",
      "\u001b[32m\u001b[1mPrecompiling\u001b[22m\u001b[39m project...\n",
      "\u001b[33m  ? \u001b[39mLathe\n"
     ]
    }
   ],
   "source": [
    "using Pkg\n",
    "\n",
    "Pkg.add(\"CSV\")\n",
    "Pkg.add(\"Random\")\n",
    "\n",
    "using CSV"
   ]
  },
  {
   "cell_type": "code",
   "execution_count": 2,
   "id": "4f74a925-e4db-4a94-853e-8711a29585a9",
   "metadata": {},
   "outputs": [
    {
     "data": {
      "text/plain": [
       "TaskLocalRNG()"
      ]
     },
     "execution_count": 2,
     "metadata": {},
     "output_type": "execute_result"
    }
   ],
   "source": [
    "using Random\n",
    "\n",
    "Random.seed!(1234)"
   ]
  },
  {
   "cell_type": "code",
   "execution_count": 3,
   "id": "87dd9ffb",
   "metadata": {},
   "outputs": [
    {
     "name": "stderr",
     "output_type": "stream",
     "text": [
      "\u001b[32m\u001b[1m   Resolving\u001b[22m\u001b[39m package versions...\n",
      "\u001b[32m\u001b[1m  No Changes\u001b[22m\u001b[39m to `C:\\Users\\soumi\\.julia\\environments\\v1.10\\Project.toml`\n",
      "\u001b[32m\u001b[1m  No Changes\u001b[22m\u001b[39m to `C:\\Users\\soumi\\.julia\\environments\\v1.10\\Manifest.toml`\n",
      "\u001b[32m\u001b[1mPrecompiling\u001b[22m\u001b[39m project...\n",
      "\u001b[33m  ? \u001b[39mLathe\n"
     ]
    },
    {
     "data": {
      "text/html": [
       "<table class=\"data-frame\"><thead><tr><th></th><th>longitude</th><th>latitude</th><th>housing_median_age</th><th>total_rooms</th><th>total_bedrooms</th><th>population</th></tr><tr><th></th><th>Float64</th><th>Float64</th><th>Int64</th><th>Int64</th><th>Int64</th><th>Int64</th></tr></thead><tbody><p>20,433 rows × 10 columns (omitted printing of 4 columns)</p><tr><th>1</th><td>-122.23</td><td>37.88</td><td>41</td><td>880</td><td>129</td><td>322</td></tr><tr><th>2</th><td>-122.22</td><td>37.86</td><td>21</td><td>7099</td><td>1106</td><td>2401</td></tr><tr><th>3</th><td>-122.24</td><td>37.85</td><td>52</td><td>1467</td><td>190</td><td>496</td></tr><tr><th>4</th><td>-122.25</td><td>37.85</td><td>52</td><td>1274</td><td>235</td><td>558</td></tr><tr><th>5</th><td>-122.25</td><td>37.85</td><td>52</td><td>1627</td><td>280</td><td>565</td></tr><tr><th>6</th><td>-122.25</td><td>37.85</td><td>52</td><td>919</td><td>213</td><td>413</td></tr><tr><th>7</th><td>-122.25</td><td>37.84</td><td>52</td><td>2535</td><td>489</td><td>1094</td></tr><tr><th>8</th><td>-122.25</td><td>37.84</td><td>52</td><td>3104</td><td>687</td><td>1157</td></tr><tr><th>9</th><td>-122.26</td><td>37.84</td><td>42</td><td>2555</td><td>665</td><td>1206</td></tr><tr><th>10</th><td>-122.25</td><td>37.84</td><td>52</td><td>3549</td><td>707</td><td>1551</td></tr><tr><th>11</th><td>-122.26</td><td>37.85</td><td>52</td><td>2202</td><td>434</td><td>910</td></tr><tr><th>12</th><td>-122.26</td><td>37.85</td><td>52</td><td>3503</td><td>752</td><td>1504</td></tr><tr><th>13</th><td>-122.26</td><td>37.85</td><td>52</td><td>2491</td><td>474</td><td>1098</td></tr><tr><th>14</th><td>-122.26</td><td>37.84</td><td>52</td><td>696</td><td>191</td><td>345</td></tr><tr><th>15</th><td>-122.26</td><td>37.85</td><td>52</td><td>2643</td><td>626</td><td>1212</td></tr><tr><th>16</th><td>-122.26</td><td>37.85</td><td>50</td><td>1120</td><td>283</td><td>697</td></tr><tr><th>17</th><td>-122.27</td><td>37.85</td><td>52</td><td>1966</td><td>347</td><td>793</td></tr><tr><th>18</th><td>-122.27</td><td>37.85</td><td>52</td><td>1228</td><td>293</td><td>648</td></tr><tr><th>19</th><td>-122.26</td><td>37.84</td><td>50</td><td>2239</td><td>455</td><td>990</td></tr><tr><th>20</th><td>-122.27</td><td>37.84</td><td>52</td><td>1503</td><td>298</td><td>690</td></tr><tr><th>21</th><td>-122.27</td><td>37.85</td><td>40</td><td>751</td><td>184</td><td>409</td></tr><tr><th>22</th><td>-122.27</td><td>37.85</td><td>42</td><td>1639</td><td>367</td><td>929</td></tr><tr><th>23</th><td>-122.27</td><td>37.84</td><td>52</td><td>2436</td><td>541</td><td>1015</td></tr><tr><th>24</th><td>-122.27</td><td>37.84</td><td>52</td><td>1688</td><td>337</td><td>853</td></tr><tr><th>25</th><td>-122.27</td><td>37.84</td><td>52</td><td>2224</td><td>437</td><td>1006</td></tr><tr><th>26</th><td>-122.28</td><td>37.85</td><td>41</td><td>535</td><td>123</td><td>317</td></tr><tr><th>27</th><td>-122.28</td><td>37.85</td><td>49</td><td>1130</td><td>244</td><td>607</td></tr><tr><th>28</th><td>-122.28</td><td>37.85</td><td>52</td><td>1898</td><td>421</td><td>1102</td></tr><tr><th>29</th><td>-122.28</td><td>37.84</td><td>50</td><td>2082</td><td>492</td><td>1131</td></tr><tr><th>30</th><td>-122.28</td><td>37.84</td><td>52</td><td>729</td><td>160</td><td>395</td></tr><tr><th>&vellip;</th><td>&vellip;</td><td>&vellip;</td><td>&vellip;</td><td>&vellip;</td><td>&vellip;</td><td>&vellip;</td></tr></tbody></table>"
      ],
      "text/latex": [
       "\\begin{tabular}{r|ccccccc}\n",
       "\t& longitude & latitude & housing\\_median\\_age & total\\_rooms & total\\_bedrooms & population & \\\\\n",
       "\t\\hline\n",
       "\t& Float64 & Float64 & Int64 & Int64 & Int64 & Int64 & \\\\\n",
       "\t\\hline\n",
       "\t1 & -122.23 & 37.88 & 41 & 880 & 129 & 322 & $\\dots$ \\\\\n",
       "\t2 & -122.22 & 37.86 & 21 & 7099 & 1106 & 2401 & $\\dots$ \\\\\n",
       "\t3 & -122.24 & 37.85 & 52 & 1467 & 190 & 496 & $\\dots$ \\\\\n",
       "\t4 & -122.25 & 37.85 & 52 & 1274 & 235 & 558 & $\\dots$ \\\\\n",
       "\t5 & -122.25 & 37.85 & 52 & 1627 & 280 & 565 & $\\dots$ \\\\\n",
       "\t6 & -122.25 & 37.85 & 52 & 919 & 213 & 413 & $\\dots$ \\\\\n",
       "\t7 & -122.25 & 37.84 & 52 & 2535 & 489 & 1094 & $\\dots$ \\\\\n",
       "\t8 & -122.25 & 37.84 & 52 & 3104 & 687 & 1157 & $\\dots$ \\\\\n",
       "\t9 & -122.26 & 37.84 & 42 & 2555 & 665 & 1206 & $\\dots$ \\\\\n",
       "\t10 & -122.25 & 37.84 & 52 & 3549 & 707 & 1551 & $\\dots$ \\\\\n",
       "\t11 & -122.26 & 37.85 & 52 & 2202 & 434 & 910 & $\\dots$ \\\\\n",
       "\t12 & -122.26 & 37.85 & 52 & 3503 & 752 & 1504 & $\\dots$ \\\\\n",
       "\t13 & -122.26 & 37.85 & 52 & 2491 & 474 & 1098 & $\\dots$ \\\\\n",
       "\t14 & -122.26 & 37.84 & 52 & 696 & 191 & 345 & $\\dots$ \\\\\n",
       "\t15 & -122.26 & 37.85 & 52 & 2643 & 626 & 1212 & $\\dots$ \\\\\n",
       "\t16 & -122.26 & 37.85 & 50 & 1120 & 283 & 697 & $\\dots$ \\\\\n",
       "\t17 & -122.27 & 37.85 & 52 & 1966 & 347 & 793 & $\\dots$ \\\\\n",
       "\t18 & -122.27 & 37.85 & 52 & 1228 & 293 & 648 & $\\dots$ \\\\\n",
       "\t19 & -122.26 & 37.84 & 50 & 2239 & 455 & 990 & $\\dots$ \\\\\n",
       "\t20 & -122.27 & 37.84 & 52 & 1503 & 298 & 690 & $\\dots$ \\\\\n",
       "\t21 & -122.27 & 37.85 & 40 & 751 & 184 & 409 & $\\dots$ \\\\\n",
       "\t22 & -122.27 & 37.85 & 42 & 1639 & 367 & 929 & $\\dots$ \\\\\n",
       "\t23 & -122.27 & 37.84 & 52 & 2436 & 541 & 1015 & $\\dots$ \\\\\n",
       "\t24 & -122.27 & 37.84 & 52 & 1688 & 337 & 853 & $\\dots$ \\\\\n",
       "\t25 & -122.27 & 37.84 & 52 & 2224 & 437 & 1006 & $\\dots$ \\\\\n",
       "\t26 & -122.28 & 37.85 & 41 & 535 & 123 & 317 & $\\dots$ \\\\\n",
       "\t27 & -122.28 & 37.85 & 49 & 1130 & 244 & 607 & $\\dots$ \\\\\n",
       "\t28 & -122.28 & 37.85 & 52 & 1898 & 421 & 1102 & $\\dots$ \\\\\n",
       "\t29 & -122.28 & 37.84 & 50 & 2082 & 492 & 1131 & $\\dots$ \\\\\n",
       "\t30 & -122.28 & 37.84 & 52 & 729 & 160 & 395 & $\\dots$ \\\\\n",
       "\t$\\dots$ & $\\dots$ & $\\dots$ & $\\dots$ & $\\dots$ & $\\dots$ & $\\dots$ &  \\\\\n",
       "\\end{tabular}\n"
      ],
      "text/plain": [
       "\u001b[1m20433×10 DataFrame\u001b[0m\n",
       "\u001b[1m   Row \u001b[0m│\u001b[1m longitude \u001b[0m\u001b[1m latitude \u001b[0m\u001b[1m housing_median_age \u001b[0m\u001b[1m total_rooms \u001b[0m\u001b[1m total_bedrooms \u001b[0m\u001b[1m\u001b[0m ⋯\n",
       "\u001b[1m       \u001b[0m│\u001b[90m Float64   \u001b[0m\u001b[90m Float64  \u001b[0m\u001b[90m Int64              \u001b[0m\u001b[90m Int64       \u001b[0m\u001b[90m Int64          \u001b[0m\u001b[90m\u001b[0m ⋯\n",
       "───────┼────────────────────────────────────────────────────────────────────────\n",
       "     1 │   -122.23     37.88                  41          880             129  ⋯\n",
       "     2 │   -122.22     37.86                  21         7099            1106\n",
       "     3 │   -122.24     37.85                  52         1467             190\n",
       "     4 │   -122.25     37.85                  52         1274             235\n",
       "     5 │   -122.25     37.85                  52         1627             280  ⋯\n",
       "     6 │   -122.25     37.85                  52          919             213\n",
       "     7 │   -122.25     37.84                  52         2535             489\n",
       "     8 │   -122.25     37.84                  52         3104             687\n",
       "     9 │   -122.26     37.84                  42         2555             665  ⋯\n",
       "    10 │   -122.25     37.84                  52         3549             707\n",
       "    11 │   -122.26     37.85                  52         2202             434\n",
       "   ⋮   │     ⋮         ⋮              ⋮                ⋮             ⋮         ⋱\n",
       " 20424 │   -121.32     39.29                  11         2640             505\n",
       " 20425 │   -121.4      39.33                  15         2655             493  ⋯\n",
       " 20426 │   -121.45     39.26                  15         2319             416\n",
       " 20427 │   -121.53     39.19                  27         2080             412\n",
       " 20428 │   -121.56     39.27                  28         2332             395\n",
       " 20429 │   -121.09     39.48                  25         1665             374  ⋯\n",
       " 20430 │   -121.21     39.49                  18          697             150\n",
       " 20431 │   -121.22     39.43                  17         2254             485\n",
       " 20432 │   -121.32     39.43                  18         1860             409\n",
       " 20433 │   -121.24     39.37                  16         2785             616  ⋯\n",
       "\u001b[36m                                                5 columns and 20412 rows omitted\u001b[0m"
      ]
     },
     "execution_count": 3,
     "metadata": {},
     "output_type": "execute_result"
    }
   ],
   "source": [
    "Pkg.add(\"DataFrames\")\n",
    "using DataFrames\n",
    "\n",
    "df = DataFrame(CSV.File(\"C:\\\\Users\\\\soumi\\\\Downloads\\\\housing\\\\housing.csv\"))"
   ]
  },
  {
   "cell_type": "code",
   "execution_count": 4,
   "id": "e8f99457-0649-410f-a329-6e3141b81a11",
   "metadata": {},
   "outputs": [
    {
     "data": {
      "text/plain": [
       "20433-element Vector{Int64}:\n",
       " 452600\n",
       " 358500\n",
       " 352100\n",
       " 341300\n",
       " 342200\n",
       " 269700\n",
       " 299200\n",
       " 241400\n",
       " 226700\n",
       " 261100\n",
       " 281500\n",
       " 241800\n",
       " 213500\n",
       "      ⋮\n",
       "  92400\n",
       " 108300\n",
       " 112000\n",
       " 107200\n",
       " 115600\n",
       "  98300\n",
       " 116800\n",
       "  78100\n",
       "  77100\n",
       "  92300\n",
       "  84700\n",
       "  89400"
      ]
     },
     "execution_count": 4,
     "metadata": {},
     "output_type": "execute_result"
    }
   ],
   "source": [
    "df.median_house_value"
   ]
  },
  {
   "cell_type": "code",
   "execution_count": 5,
   "id": "530fbb76",
   "metadata": {},
   "outputs": [
    {
     "data": {
      "text/html": [
       "<table class=\"data-frame\"><thead><tr><th></th><th>longitude</th><th>latitude</th><th>housing_median_age</th><th>total_rooms</th><th>total_bedrooms</th><th>population</th></tr><tr><th></th><th>Float64</th><th>Float64</th><th>Int64</th><th>Int64</th><th>Int64</th><th>Int64</th></tr></thead><tbody><p>20,433 rows × 10 columns (omitted printing of 4 columns)</p><tr><th>1</th><td>-122.23</td><td>37.88</td><td>41</td><td>880</td><td>129</td><td>322</td></tr><tr><th>2</th><td>-122.22</td><td>37.86</td><td>21</td><td>7099</td><td>1106</td><td>2401</td></tr><tr><th>3</th><td>-122.24</td><td>37.85</td><td>52</td><td>1467</td><td>190</td><td>496</td></tr><tr><th>4</th><td>-122.25</td><td>37.85</td><td>52</td><td>1274</td><td>235</td><td>558</td></tr><tr><th>5</th><td>-122.25</td><td>37.85</td><td>52</td><td>1627</td><td>280</td><td>565</td></tr><tr><th>6</th><td>-122.25</td><td>37.85</td><td>52</td><td>919</td><td>213</td><td>413</td></tr><tr><th>7</th><td>-122.25</td><td>37.84</td><td>52</td><td>2535</td><td>489</td><td>1094</td></tr><tr><th>8</th><td>-122.25</td><td>37.84</td><td>52</td><td>3104</td><td>687</td><td>1157</td></tr><tr><th>9</th><td>-122.26</td><td>37.84</td><td>42</td><td>2555</td><td>665</td><td>1206</td></tr><tr><th>10</th><td>-122.25</td><td>37.84</td><td>52</td><td>3549</td><td>707</td><td>1551</td></tr><tr><th>11</th><td>-122.26</td><td>37.85</td><td>52</td><td>2202</td><td>434</td><td>910</td></tr><tr><th>12</th><td>-122.26</td><td>37.85</td><td>52</td><td>3503</td><td>752</td><td>1504</td></tr><tr><th>13</th><td>-122.26</td><td>37.85</td><td>52</td><td>2491</td><td>474</td><td>1098</td></tr><tr><th>14</th><td>-122.26</td><td>37.84</td><td>52</td><td>696</td><td>191</td><td>345</td></tr><tr><th>15</th><td>-122.26</td><td>37.85</td><td>52</td><td>2643</td><td>626</td><td>1212</td></tr><tr><th>16</th><td>-122.26</td><td>37.85</td><td>50</td><td>1120</td><td>283</td><td>697</td></tr><tr><th>17</th><td>-122.27</td><td>37.85</td><td>52</td><td>1966</td><td>347</td><td>793</td></tr><tr><th>18</th><td>-122.27</td><td>37.85</td><td>52</td><td>1228</td><td>293</td><td>648</td></tr><tr><th>19</th><td>-122.26</td><td>37.84</td><td>50</td><td>2239</td><td>455</td><td>990</td></tr><tr><th>20</th><td>-122.27</td><td>37.84</td><td>52</td><td>1503</td><td>298</td><td>690</td></tr><tr><th>21</th><td>-122.27</td><td>37.85</td><td>40</td><td>751</td><td>184</td><td>409</td></tr><tr><th>22</th><td>-122.27</td><td>37.85</td><td>42</td><td>1639</td><td>367</td><td>929</td></tr><tr><th>23</th><td>-122.27</td><td>37.84</td><td>52</td><td>2436</td><td>541</td><td>1015</td></tr><tr><th>24</th><td>-122.27</td><td>37.84</td><td>52</td><td>1688</td><td>337</td><td>853</td></tr><tr><th>25</th><td>-122.27</td><td>37.84</td><td>52</td><td>2224</td><td>437</td><td>1006</td></tr><tr><th>26</th><td>-122.28</td><td>37.85</td><td>41</td><td>535</td><td>123</td><td>317</td></tr><tr><th>27</th><td>-122.28</td><td>37.85</td><td>49</td><td>1130</td><td>244</td><td>607</td></tr><tr><th>28</th><td>-122.28</td><td>37.85</td><td>52</td><td>1898</td><td>421</td><td>1102</td></tr><tr><th>29</th><td>-122.28</td><td>37.84</td><td>50</td><td>2082</td><td>492</td><td>1131</td></tr><tr><th>30</th><td>-122.28</td><td>37.84</td><td>52</td><td>729</td><td>160</td><td>395</td></tr><tr><th>&vellip;</th><td>&vellip;</td><td>&vellip;</td><td>&vellip;</td><td>&vellip;</td><td>&vellip;</td><td>&vellip;</td></tr></tbody></table>"
      ],
      "text/latex": [
       "\\begin{tabular}{r|ccccccc}\n",
       "\t& longitude & latitude & housing\\_median\\_age & total\\_rooms & total\\_bedrooms & population & \\\\\n",
       "\t\\hline\n",
       "\t& Float64 & Float64 & Int64 & Int64 & Int64 & Int64 & \\\\\n",
       "\t\\hline\n",
       "\t1 & -122.23 & 37.88 & 41 & 880 & 129 & 322 & $\\dots$ \\\\\n",
       "\t2 & -122.22 & 37.86 & 21 & 7099 & 1106 & 2401 & $\\dots$ \\\\\n",
       "\t3 & -122.24 & 37.85 & 52 & 1467 & 190 & 496 & $\\dots$ \\\\\n",
       "\t4 & -122.25 & 37.85 & 52 & 1274 & 235 & 558 & $\\dots$ \\\\\n",
       "\t5 & -122.25 & 37.85 & 52 & 1627 & 280 & 565 & $\\dots$ \\\\\n",
       "\t6 & -122.25 & 37.85 & 52 & 919 & 213 & 413 & $\\dots$ \\\\\n",
       "\t7 & -122.25 & 37.84 & 52 & 2535 & 489 & 1094 & $\\dots$ \\\\\n",
       "\t8 & -122.25 & 37.84 & 52 & 3104 & 687 & 1157 & $\\dots$ \\\\\n",
       "\t9 & -122.26 & 37.84 & 42 & 2555 & 665 & 1206 & $\\dots$ \\\\\n",
       "\t10 & -122.25 & 37.84 & 52 & 3549 & 707 & 1551 & $\\dots$ \\\\\n",
       "\t11 & -122.26 & 37.85 & 52 & 2202 & 434 & 910 & $\\dots$ \\\\\n",
       "\t12 & -122.26 & 37.85 & 52 & 3503 & 752 & 1504 & $\\dots$ \\\\\n",
       "\t13 & -122.26 & 37.85 & 52 & 2491 & 474 & 1098 & $\\dots$ \\\\\n",
       "\t14 & -122.26 & 37.84 & 52 & 696 & 191 & 345 & $\\dots$ \\\\\n",
       "\t15 & -122.26 & 37.85 & 52 & 2643 & 626 & 1212 & $\\dots$ \\\\\n",
       "\t16 & -122.26 & 37.85 & 50 & 1120 & 283 & 697 & $\\dots$ \\\\\n",
       "\t17 & -122.27 & 37.85 & 52 & 1966 & 347 & 793 & $\\dots$ \\\\\n",
       "\t18 & -122.27 & 37.85 & 52 & 1228 & 293 & 648 & $\\dots$ \\\\\n",
       "\t19 & -122.26 & 37.84 & 50 & 2239 & 455 & 990 & $\\dots$ \\\\\n",
       "\t20 & -122.27 & 37.84 & 52 & 1503 & 298 & 690 & $\\dots$ \\\\\n",
       "\t21 & -122.27 & 37.85 & 40 & 751 & 184 & 409 & $\\dots$ \\\\\n",
       "\t22 & -122.27 & 37.85 & 42 & 1639 & 367 & 929 & $\\dots$ \\\\\n",
       "\t23 & -122.27 & 37.84 & 52 & 2436 & 541 & 1015 & $\\dots$ \\\\\n",
       "\t24 & -122.27 & 37.84 & 52 & 1688 & 337 & 853 & $\\dots$ \\\\\n",
       "\t25 & -122.27 & 37.84 & 52 & 2224 & 437 & 1006 & $\\dots$ \\\\\n",
       "\t26 & -122.28 & 37.85 & 41 & 535 & 123 & 317 & $\\dots$ \\\\\n",
       "\t27 & -122.28 & 37.85 & 49 & 1130 & 244 & 607 & $\\dots$ \\\\\n",
       "\t28 & -122.28 & 37.85 & 52 & 1898 & 421 & 1102 & $\\dots$ \\\\\n",
       "\t29 & -122.28 & 37.84 & 50 & 2082 & 492 & 1131 & $\\dots$ \\\\\n",
       "\t30 & -122.28 & 37.84 & 52 & 729 & 160 & 395 & $\\dots$ \\\\\n",
       "\t$\\dots$ & $\\dots$ & $\\dots$ & $\\dots$ & $\\dots$ & $\\dots$ & $\\dots$ &  \\\\\n",
       "\\end{tabular}\n"
      ],
      "text/plain": [
       "\u001b[1m20433×10 DataFrame\u001b[0m\n",
       "\u001b[1m   Row \u001b[0m│\u001b[1m longitude \u001b[0m\u001b[1m latitude \u001b[0m\u001b[1m housing_median_age \u001b[0m\u001b[1m total_rooms \u001b[0m\u001b[1m total_bedrooms \u001b[0m\u001b[1m\u001b[0m ⋯\n",
       "\u001b[1m       \u001b[0m│\u001b[90m Float64   \u001b[0m\u001b[90m Float64  \u001b[0m\u001b[90m Int64              \u001b[0m\u001b[90m Int64       \u001b[0m\u001b[90m Int64          \u001b[0m\u001b[90m\u001b[0m ⋯\n",
       "───────┼────────────────────────────────────────────────────────────────────────\n",
       "     1 │   -122.23     37.88                  41          880             129  ⋯\n",
       "     2 │   -122.22     37.86                  21         7099            1106\n",
       "     3 │   -122.24     37.85                  52         1467             190\n",
       "     4 │   -122.25     37.85                  52         1274             235\n",
       "     5 │   -122.25     37.85                  52         1627             280  ⋯\n",
       "     6 │   -122.25     37.85                  52          919             213\n",
       "     7 │   -122.25     37.84                  52         2535             489\n",
       "     8 │   -122.25     37.84                  52         3104             687\n",
       "     9 │   -122.26     37.84                  42         2555             665  ⋯\n",
       "    10 │   -122.25     37.84                  52         3549             707\n",
       "    11 │   -122.26     37.85                  52         2202             434\n",
       "   ⋮   │     ⋮         ⋮              ⋮                ⋮             ⋮         ⋱\n",
       " 20424 │   -121.32     39.29                  11         2640             505\n",
       " 20425 │   -121.4      39.33                  15         2655             493  ⋯\n",
       " 20426 │   -121.45     39.26                  15         2319             416\n",
       " 20427 │   -121.53     39.19                  27         2080             412\n",
       " 20428 │   -121.56     39.27                  28         2332             395\n",
       " 20429 │   -121.09     39.48                  25         1665             374  ⋯\n",
       " 20430 │   -121.21     39.49                  18          697             150\n",
       " 20431 │   -121.22     39.43                  17         2254             485\n",
       " 20432 │   -121.32     39.43                  18         1860             409\n",
       " 20433 │   -121.24     39.37                  16         2785             616  ⋯\n",
       "\u001b[36m                                                5 columns and 20412 rows omitted\u001b[0m"
      ]
     },
     "execution_count": 5,
     "metadata": {},
     "output_type": "execute_result"
    }
   ],
   "source": [
    "df"
   ]
  },
  {
   "cell_type": "code",
   "execution_count": 6,
   "id": "ecb6d356-e436-4bb0-82aa-a3d2e20cccd5",
   "metadata": {},
   "outputs": [
    {
     "name": "stderr",
     "output_type": "stream",
     "text": [
      "WARNING: using Pandas.DataFrame in module Main conflicts with an existing identifier.\n"
     ]
    },
    {
     "data": {
      "text/html": [
       "<table class=\"data-frame\"><thead><tr><th></th><th>longitude</th><th>latitude</th><th>housing_median_age</th><th>total_rooms</th><th>total_bedrooms</th><th>population</th></tr><tr><th></th><th>Float64</th><th>Float64</th><th>Int64</th><th>Int64</th><th>Int64</th><th>Int64</th></tr></thead><tbody><p>20,433 rows × 14 columns (omitted printing of 8 columns)</p><tr><th>1</th><td>-122.23</td><td>37.88</td><td>41</td><td>880</td><td>129</td><td>322</td></tr><tr><th>2</th><td>-122.22</td><td>37.86</td><td>21</td><td>7099</td><td>1106</td><td>2401</td></tr><tr><th>3</th><td>-122.24</td><td>37.85</td><td>52</td><td>1467</td><td>190</td><td>496</td></tr><tr><th>4</th><td>-122.25</td><td>37.85</td><td>52</td><td>1274</td><td>235</td><td>558</td></tr><tr><th>5</th><td>-122.25</td><td>37.85</td><td>52</td><td>1627</td><td>280</td><td>565</td></tr><tr><th>6</th><td>-122.25</td><td>37.85</td><td>52</td><td>919</td><td>213</td><td>413</td></tr><tr><th>7</th><td>-122.25</td><td>37.84</td><td>52</td><td>2535</td><td>489</td><td>1094</td></tr><tr><th>8</th><td>-122.25</td><td>37.84</td><td>52</td><td>3104</td><td>687</td><td>1157</td></tr><tr><th>9</th><td>-122.26</td><td>37.84</td><td>42</td><td>2555</td><td>665</td><td>1206</td></tr><tr><th>10</th><td>-122.25</td><td>37.84</td><td>52</td><td>3549</td><td>707</td><td>1551</td></tr><tr><th>11</th><td>-122.26</td><td>37.85</td><td>52</td><td>2202</td><td>434</td><td>910</td></tr><tr><th>12</th><td>-122.26</td><td>37.85</td><td>52</td><td>3503</td><td>752</td><td>1504</td></tr><tr><th>13</th><td>-122.26</td><td>37.85</td><td>52</td><td>2491</td><td>474</td><td>1098</td></tr><tr><th>14</th><td>-122.26</td><td>37.84</td><td>52</td><td>696</td><td>191</td><td>345</td></tr><tr><th>15</th><td>-122.26</td><td>37.85</td><td>52</td><td>2643</td><td>626</td><td>1212</td></tr><tr><th>16</th><td>-122.26</td><td>37.85</td><td>50</td><td>1120</td><td>283</td><td>697</td></tr><tr><th>17</th><td>-122.27</td><td>37.85</td><td>52</td><td>1966</td><td>347</td><td>793</td></tr><tr><th>18</th><td>-122.27</td><td>37.85</td><td>52</td><td>1228</td><td>293</td><td>648</td></tr><tr><th>19</th><td>-122.26</td><td>37.84</td><td>50</td><td>2239</td><td>455</td><td>990</td></tr><tr><th>20</th><td>-122.27</td><td>37.84</td><td>52</td><td>1503</td><td>298</td><td>690</td></tr><tr><th>21</th><td>-122.27</td><td>37.85</td><td>40</td><td>751</td><td>184</td><td>409</td></tr><tr><th>22</th><td>-122.27</td><td>37.85</td><td>42</td><td>1639</td><td>367</td><td>929</td></tr><tr><th>23</th><td>-122.27</td><td>37.84</td><td>52</td><td>2436</td><td>541</td><td>1015</td></tr><tr><th>24</th><td>-122.27</td><td>37.84</td><td>52</td><td>1688</td><td>337</td><td>853</td></tr><tr><th>25</th><td>-122.27</td><td>37.84</td><td>52</td><td>2224</td><td>437</td><td>1006</td></tr><tr><th>26</th><td>-122.28</td><td>37.85</td><td>41</td><td>535</td><td>123</td><td>317</td></tr><tr><th>27</th><td>-122.28</td><td>37.85</td><td>49</td><td>1130</td><td>244</td><td>607</td></tr><tr><th>28</th><td>-122.28</td><td>37.85</td><td>52</td><td>1898</td><td>421</td><td>1102</td></tr><tr><th>29</th><td>-122.28</td><td>37.84</td><td>50</td><td>2082</td><td>492</td><td>1131</td></tr><tr><th>30</th><td>-122.28</td><td>37.84</td><td>52</td><td>729</td><td>160</td><td>395</td></tr><tr><th>&vellip;</th><td>&vellip;</td><td>&vellip;</td><td>&vellip;</td><td>&vellip;</td><td>&vellip;</td><td>&vellip;</td></tr></tbody></table>"
      ],
      "text/latex": [
       "\\begin{tabular}{r|ccccccc}\n",
       "\t& longitude & latitude & housing\\_median\\_age & total\\_rooms & total\\_bedrooms & population & \\\\\n",
       "\t\\hline\n",
       "\t& Float64 & Float64 & Int64 & Int64 & Int64 & Int64 & \\\\\n",
       "\t\\hline\n",
       "\t1 & -122.23 & 37.88 & 41 & 880 & 129 & 322 & $\\dots$ \\\\\n",
       "\t2 & -122.22 & 37.86 & 21 & 7099 & 1106 & 2401 & $\\dots$ \\\\\n",
       "\t3 & -122.24 & 37.85 & 52 & 1467 & 190 & 496 & $\\dots$ \\\\\n",
       "\t4 & -122.25 & 37.85 & 52 & 1274 & 235 & 558 & $\\dots$ \\\\\n",
       "\t5 & -122.25 & 37.85 & 52 & 1627 & 280 & 565 & $\\dots$ \\\\\n",
       "\t6 & -122.25 & 37.85 & 52 & 919 & 213 & 413 & $\\dots$ \\\\\n",
       "\t7 & -122.25 & 37.84 & 52 & 2535 & 489 & 1094 & $\\dots$ \\\\\n",
       "\t8 & -122.25 & 37.84 & 52 & 3104 & 687 & 1157 & $\\dots$ \\\\\n",
       "\t9 & -122.26 & 37.84 & 42 & 2555 & 665 & 1206 & $\\dots$ \\\\\n",
       "\t10 & -122.25 & 37.84 & 52 & 3549 & 707 & 1551 & $\\dots$ \\\\\n",
       "\t11 & -122.26 & 37.85 & 52 & 2202 & 434 & 910 & $\\dots$ \\\\\n",
       "\t12 & -122.26 & 37.85 & 52 & 3503 & 752 & 1504 & $\\dots$ \\\\\n",
       "\t13 & -122.26 & 37.85 & 52 & 2491 & 474 & 1098 & $\\dots$ \\\\\n",
       "\t14 & -122.26 & 37.84 & 52 & 696 & 191 & 345 & $\\dots$ \\\\\n",
       "\t15 & -122.26 & 37.85 & 52 & 2643 & 626 & 1212 & $\\dots$ \\\\\n",
       "\t16 & -122.26 & 37.85 & 50 & 1120 & 283 & 697 & $\\dots$ \\\\\n",
       "\t17 & -122.27 & 37.85 & 52 & 1966 & 347 & 793 & $\\dots$ \\\\\n",
       "\t18 & -122.27 & 37.85 & 52 & 1228 & 293 & 648 & $\\dots$ \\\\\n",
       "\t19 & -122.26 & 37.84 & 50 & 2239 & 455 & 990 & $\\dots$ \\\\\n",
       "\t20 & -122.27 & 37.84 & 52 & 1503 & 298 & 690 & $\\dots$ \\\\\n",
       "\t21 & -122.27 & 37.85 & 40 & 751 & 184 & 409 & $\\dots$ \\\\\n",
       "\t22 & -122.27 & 37.85 & 42 & 1639 & 367 & 929 & $\\dots$ \\\\\n",
       "\t23 & -122.27 & 37.84 & 52 & 2436 & 541 & 1015 & $\\dots$ \\\\\n",
       "\t24 & -122.27 & 37.84 & 52 & 1688 & 337 & 853 & $\\dots$ \\\\\n",
       "\t25 & -122.27 & 37.84 & 52 & 2224 & 437 & 1006 & $\\dots$ \\\\\n",
       "\t26 & -122.28 & 37.85 & 41 & 535 & 123 & 317 & $\\dots$ \\\\\n",
       "\t27 & -122.28 & 37.85 & 49 & 1130 & 244 & 607 & $\\dots$ \\\\\n",
       "\t28 & -122.28 & 37.85 & 52 & 1898 & 421 & 1102 & $\\dots$ \\\\\n",
       "\t29 & -122.28 & 37.84 & 50 & 2082 & 492 & 1131 & $\\dots$ \\\\\n",
       "\t30 & -122.28 & 37.84 & 52 & 729 & 160 & 395 & $\\dots$ \\\\\n",
       "\t$\\dots$ & $\\dots$ & $\\dots$ & $\\dots$ & $\\dots$ & $\\dots$ & $\\dots$ &  \\\\\n",
       "\\end{tabular}\n"
      ],
      "text/plain": [
       "\u001b[1m20433×14 DataFrame\u001b[0m\n",
       "\u001b[1m   Row \u001b[0m│\u001b[1m longitude \u001b[0m\u001b[1m latitude \u001b[0m\u001b[1m housing_median_age \u001b[0m\u001b[1m total_rooms \u001b[0m\u001b[1m total_bedrooms \u001b[0m\u001b[1m\u001b[0m ⋯\n",
       "\u001b[1m       \u001b[0m│\u001b[90m Float64   \u001b[0m\u001b[90m Float64  \u001b[0m\u001b[90m Int64              \u001b[0m\u001b[90m Int64       \u001b[0m\u001b[90m Int64          \u001b[0m\u001b[90m\u001b[0m ⋯\n",
       "───────┼────────────────────────────────────────────────────────────────────────\n",
       "     1 │   -122.23     37.88                  41          880             129  ⋯\n",
       "     2 │   -122.22     37.86                  21         7099            1106\n",
       "     3 │   -122.24     37.85                  52         1467             190\n",
       "     4 │   -122.25     37.85                  52         1274             235\n",
       "     5 │   -122.25     37.85                  52         1627             280  ⋯\n",
       "     6 │   -122.25     37.85                  52          919             213\n",
       "     7 │   -122.25     37.84                  52         2535             489\n",
       "     8 │   -122.25     37.84                  52         3104             687\n",
       "     9 │   -122.26     37.84                  42         2555             665  ⋯\n",
       "    10 │   -122.25     37.84                  52         3549             707\n",
       "    11 │   -122.26     37.85                  52         2202             434\n",
       "   ⋮   │     ⋮         ⋮              ⋮                ⋮             ⋮         ⋱\n",
       " 20424 │   -121.32     39.29                  11         2640             505\n",
       " 20425 │   -121.4      39.33                  15         2655             493  ⋯\n",
       " 20426 │   -121.45     39.26                  15         2319             416\n",
       " 20427 │   -121.53     39.19                  27         2080             412\n",
       " 20428 │   -121.56     39.27                  28         2332             395\n",
       " 20429 │   -121.09     39.48                  25         1665             374  ⋯\n",
       " 20430 │   -121.21     39.49                  18          697             150\n",
       " 20431 │   -121.22     39.43                  17         2254             485\n",
       " 20432 │   -121.32     39.43                  18         1860             409\n",
       " 20433 │   -121.24     39.37                  16         2785             616  ⋯\n",
       "\u001b[36m                                                9 columns and 20412 rows omitted\u001b[0m"
      ]
     },
     "execution_count": 6,
     "metadata": {},
     "output_type": "execute_result"
    }
   ],
   "source": [
    "using Pandas\n",
    "\n",
    "pd_df = Pandas.DataFrame(df)\n",
    "\n",
    "encoded_pd_df = Pandas.get_dummies(pd_df, columns=[\"ocean_proximity\"])\n",
    "\n",
    "df = DataFrame(encoded_pd_df)"
   ]
  },
  {
   "cell_type": "code",
   "execution_count": 7,
   "id": "8be7ddc8",
   "metadata": {},
   "outputs": [
    {
     "name": "stderr",
     "output_type": "stream",
     "text": [
      "\u001b[32m\u001b[1m   Resolving\u001b[22m\u001b[39m package versions...\n",
      "\u001b[32m\u001b[1m  No Changes\u001b[22m\u001b[39m to `C:\\Users\\soumi\\.julia\\environments\\v1.10\\Project.toml`\n",
      "\u001b[32m\u001b[1m  No Changes\u001b[22m\u001b[39m to `C:\\Users\\soumi\\.julia\\environments\\v1.10\\Manifest.toml`\n",
      "\u001b[32m\u001b[1mPrecompiling\u001b[22m\u001b[39m project...\n",
      "\u001b[33m  ? \u001b[39mLathe\n",
      "\u001b[32m\u001b[1mPrecompiling\u001b[22m\u001b[39m Lathe\n",
      "\u001b[36m\u001b[1m        Info\u001b[22m\u001b[39m Given Lathe was explicitly requested, output will be shown live \u001b[0K\n",
      "\u001b[0KWARNING: Method definition PowerLog(Float64, Float64) in module models at C:\\Users\\soumi\\.julia\\packages\\Lathe\\ZRJQf\\src\\models\\toolbox.jl:14 overwritten on the same line (check for duplicate calls to `include`).\n",
      "\u001b[0KERROR: Method overwriting is not permitted during Module precompilation. Use `__precompile__(false)` to opt-out of precompilation.\n",
      "\u001b[33m  ? \u001b[39mLathe\n",
      "\u001b[36m\u001b[1m[ \u001b[22m\u001b[39m\u001b[36m\u001b[1mInfo: \u001b[22m\u001b[39mPrecompiling Lathe [38d8eb38-e7b1-11e9-0012-376b6c802672]\n",
      "WARNING: Method definition PowerLog(Float64, Float64) in module models at C:\\Users\\soumi\\.julia\\packages\\Lathe\\ZRJQf\\src\\models\\toolbox.jl:14 overwritten on the same line (check for duplicate calls to `include`).\n",
      "ERROR: Method overwriting is not permitted during Module precompilation. Use `__precompile__(false)` to opt-out of precompilation.\n",
      "\u001b[36m\u001b[1m[ \u001b[22m\u001b[39m\u001b[36m\u001b[1mInfo: \u001b[22m\u001b[39mSkipping precompilation since __precompile__(false). Importing Lathe [38d8eb38-e7b1-11e9-0012-376b6c802672].\n",
      "\u001b[33m\u001b[1m┌ \u001b[22m\u001b[39m\u001b[33m\u001b[1mWarning: \u001b[22m\u001b[39mReplacing docs for `Lathe.models.PowerLog :: Tuple{Float64, Float64}` in module `Lathe.models`\n",
      "\u001b[33m\u001b[1m└ \u001b[22m\u001b[39m\u001b[90m@ Base.Docs docs\\Docs.jl:243\u001b[39m\n",
      "\u001b[33m\u001b[1m┌ \u001b[22m\u001b[39m\u001b[33m\u001b[1mWarning: \u001b[22m\u001b[39mReplacing docs for `Lathe.models.MeanBaseline :: Tuple{Any}` in module `Lathe.models`\n",
      "\u001b[33m\u001b[1m└ \u001b[22m\u001b[39m\u001b[90m@ Base.Docs docs\\Docs.jl:243\u001b[39m\n",
      "\u001b[33m\u001b[1m┌ \u001b[22m\u001b[39m\u001b[33m\u001b[1mWarning: \u001b[22m\u001b[39mReplacing docs for `Lathe.models.ClassBaseline :: Tuple{Any}` in module `Lathe.models`\n",
      "\u001b[33m\u001b[1m└ \u001b[22m\u001b[39m\u001b[90m@ Base.Docs docs\\Docs.jl:243\u001b[39m\n",
      "\u001b[33m\u001b[1m┌ \u001b[22m\u001b[39m\u001b[33m\u001b[1mWarning: \u001b[22m\u001b[39mReplacing docs for `Lathe.models.Pipeline :: Tuple{Any}` in module `Lathe.models`\n",
      "\u001b[33m\u001b[1m└ \u001b[22m\u001b[39m\u001b[90m@ Base.Docs docs\\Docs.jl:243\u001b[39m\n",
      "\u001b[33m\u001b[1m┌ \u001b[22m\u001b[39m\u001b[33m\u001b[1mWarning: \u001b[22m\u001b[39mReplacing docs for `Lathe.models.PowerLog :: Tuple{Float64, Float64}` in module `Lathe.models`\n",
      "\u001b[33m\u001b[1m└ \u001b[22m\u001b[39m\u001b[90m@ Base.Docs docs\\Docs.jl:243\u001b[39m\n",
      "\u001b[33m\u001b[1m┌ \u001b[22m\u001b[39m\u001b[33m\u001b[1mWarning: \u001b[22m\u001b[39mReplacing docs for `Lathe.models.MeanBaseline :: Tuple{Any}` in module `Lathe.models`\n",
      "\u001b[33m\u001b[1m└ \u001b[22m\u001b[39m\u001b[90m@ Base.Docs docs\\Docs.jl:243\u001b[39m\n",
      "\u001b[33m\u001b[1m┌ \u001b[22m\u001b[39m\u001b[33m\u001b[1mWarning: \u001b[22m\u001b[39mReplacing docs for `Lathe.models.ClassBaseline :: Tuple{Any}` in module `Lathe.models`\n",
      "\u001b[33m\u001b[1m└ \u001b[22m\u001b[39m\u001b[90m@ Base.Docs docs\\Docs.jl:243\u001b[39m\n",
      "\u001b[33m\u001b[1m┌ \u001b[22m\u001b[39m\u001b[33m\u001b[1mWarning: \u001b[22m\u001b[39mReplacing docs for `Lathe.models.Pipeline :: Tuple{Any}` in module `Lathe.models`\n",
      "\u001b[33m\u001b[1m└ \u001b[22m\u001b[39m\u001b[90m@ Base.Docs docs\\Docs.jl:243\u001b[39m\n"
     ]
    },
    {
     "data": {
      "text/plain": [
       "(\u001b[1m16496×14 DataFrame\u001b[0m\n",
       "\u001b[1m   Row \u001b[0m│\u001b[1m longitude \u001b[0m\u001b[1m latitude \u001b[0m\u001b[1m housing_median_age \u001b[0m\u001b[1m total_rooms \u001b[0m\u001b[1m total_bedrooms \u001b[0m\u001b[1m\u001b[0m ⋯\n",
       "\u001b[1m       \u001b[0m│\u001b[90m Float64   \u001b[0m\u001b[90m Float64  \u001b[0m\u001b[90m Int64              \u001b[0m\u001b[90m Int64       \u001b[0m\u001b[90m Int64          \u001b[0m\u001b[90m\u001b[0m ⋯\n",
       "───────┼────────────────────────────────────────────────────────────────────────\n",
       "     1 │   -122.23     37.88                  41          880             129  ⋯\n",
       "     2 │   -122.22     37.86                  21         7099            1106\n",
       "     3 │   -122.24     37.85                  52         1467             190\n",
       "     4 │   -122.25     37.85                  52         1627             280\n",
       "     5 │   -122.25     37.85                  52          919             213  ⋯\n",
       "     6 │   -122.25     37.84                  52         3104             687\n",
       "     7 │   -122.26     37.84                  42         2555             665\n",
       "     8 │   -122.25     37.84                  52         3549             707\n",
       "     9 │   -122.26     37.85                  52         2202             434  ⋯\n",
       "    10 │   -122.26     37.85                  52         3503             752\n",
       "    11 │   -122.26     37.85                  52         2491             474\n",
       "   ⋮   │     ⋮         ⋮              ⋮                ⋮             ⋮         ⋱\n",
       " 16487 │   -121.32     39.13                   5          358              65\n",
       " 16488 │   -121.48     39.1                   19         2043             421  ⋯\n",
       " 16489 │   -121.39     39.12                  28        10035            1856\n",
       " 16490 │   -121.32     39.29                  11         2640             505\n",
       " 16491 │   -121.4      39.33                  15         2655             493\n",
       " 16492 │   -121.53     39.19                  27         2080             412  ⋯\n",
       " 16493 │   -121.56     39.27                  28         2332             395\n",
       " 16494 │   -121.21     39.49                  18          697             150\n",
       " 16495 │   -121.22     39.43                  17         2254             485\n",
       " 16496 │   -121.32     39.43                  18         1860             409  ⋯\n",
       "\u001b[36m                                                9 columns and 16475 rows omitted\u001b[0m, \u001b[1m3937×14 DataFrame\u001b[0m\n",
       "\u001b[1m  Row \u001b[0m│\u001b[1m longitude \u001b[0m\u001b[1m latitude \u001b[0m\u001b[1m housing_median_age \u001b[0m\u001b[1m total_rooms \u001b[0m\u001b[1m total_bedrooms \u001b[0m\u001b[1m \u001b[0m ⋯\n",
       "\u001b[1m      \u001b[0m│\u001b[90m Float64   \u001b[0m\u001b[90m Float64  \u001b[0m\u001b[90m Int64              \u001b[0m\u001b[90m Int64       \u001b[0m\u001b[90m Int64          \u001b[0m\u001b[90m \u001b[0m ⋯\n",
       "──────┼─────────────────────────────────────────────────────────────────────────\n",
       "    1 │   -122.25     37.85                  52         1274             235   ⋯\n",
       "    2 │   -122.25     37.84                  52         2535             489\n",
       "    3 │   -122.27     37.85                  52         1966             347\n",
       "    4 │   -122.26     37.84                  50         2239             455\n",
       "    5 │   -122.27     37.83                  49         1655             366   ⋯\n",
       "    6 │   -122.26     37.83                  52         1665             419\n",
       "    7 │   -122.27     37.82                  43         1007             312\n",
       "    8 │   -122.26     37.82                  40          624             195\n",
       "    9 │   -122.27     37.82                  43         1868             456   ⋯\n",
       "   10 │   -122.27     37.82                  52         1630             456\n",
       "   11 │   -122.28     37.82                  52         1170             235\n",
       "  ⋮   │     ⋮         ⋮              ⋮                ⋮             ⋮          ⋱\n",
       " 3928 │   -121.57     39.16                  33         2033             375\n",
       " 3929 │   -121.54     39.12                  17         4251             899   ⋯\n",
       " 3930 │   -121.58     39.12                  26         2796             629\n",
       " 3931 │   -121.57     39.1                   28         1442             333\n",
       " 3932 │   -121.54     39.08                  26         2276             460\n",
       " 3933 │   -121.44     39.0                   20          755             147   ⋯\n",
       " 3934 │   -121.41     39.04                  16         1698             300\n",
       " 3935 │   -121.45     39.26                  15         2319             416\n",
       " 3936 │   -121.09     39.48                  25         1665             374\n",
       " 3937 │   -121.24     39.37                  16         2785             616   ⋯\n",
       "\u001b[36m                                                 9 columns and 3916 rows omitted\u001b[0m)"
      ]
     },
     "execution_count": 7,
     "metadata": {},
     "output_type": "execute_result"
    }
   ],
   "source": [
    "Pkg.add(\"Lathe\")\n",
    "using Lathe.preprocess: TrainTestSplit\n",
    "\n",
    "train_df, test_df = TrainTestSplit(df, 0.8)"
   ]
  },
  {
   "cell_type": "code",
   "execution_count": 8,
   "id": "39ce1fcb",
   "metadata": {},
   "outputs": [
    {
     "data": {
      "text/html": [
       "<table class=\"data-frame\"><thead><tr><th></th><th>longitude</th><th>latitude</th><th>housing_median_age</th><th>total_rooms</th><th>total_bedrooms</th><th>population</th></tr><tr><th></th><th>Float64</th><th>Float64</th><th>Int64</th><th>Int64</th><th>Int64</th><th>Int64</th></tr></thead><tbody><p>3,937 rows × 13 columns (omitted printing of 7 columns)</p><tr><th>1</th><td>-122.25</td><td>37.85</td><td>52</td><td>1274</td><td>235</td><td>558</td></tr><tr><th>2</th><td>-122.25</td><td>37.84</td><td>52</td><td>2535</td><td>489</td><td>1094</td></tr><tr><th>3</th><td>-122.27</td><td>37.85</td><td>52</td><td>1966</td><td>347</td><td>793</td></tr><tr><th>4</th><td>-122.26</td><td>37.84</td><td>50</td><td>2239</td><td>455</td><td>990</td></tr><tr><th>5</th><td>-122.27</td><td>37.83</td><td>49</td><td>1655</td><td>366</td><td>754</td></tr><tr><th>6</th><td>-122.26</td><td>37.83</td><td>52</td><td>1665</td><td>419</td><td>946</td></tr><tr><th>7</th><td>-122.27</td><td>37.82</td><td>43</td><td>1007</td><td>312</td><td>558</td></tr><tr><th>8</th><td>-122.26</td><td>37.82</td><td>40</td><td>624</td><td>195</td><td>423</td></tr><tr><th>9</th><td>-122.27</td><td>37.82</td><td>43</td><td>1868</td><td>456</td><td>1061</td></tr><tr><th>10</th><td>-122.27</td><td>37.82</td><td>52</td><td>1630</td><td>456</td><td>1162</td></tr><tr><th>11</th><td>-122.28</td><td>37.82</td><td>52</td><td>1170</td><td>235</td><td>701</td></tr><tr><th>12</th><td>-122.28</td><td>37.82</td><td>52</td><td>1238</td><td>288</td><td>622</td></tr><tr><th>13</th><td>-122.29</td><td>37.81</td><td>49</td><td>844</td><td>204</td><td>560</td></tr><tr><th>14</th><td>-122.28</td><td>37.81</td><td>17</td><td>1237</td><td>462</td><td>762</td></tr><tr><th>15</th><td>-122.29</td><td>37.81</td><td>23</td><td>1745</td><td>374</td><td>1054</td></tr><tr><th>16</th><td>-122.27</td><td>37.81</td><td>52</td><td>210</td><td>56</td><td>183</td></tr><tr><th>17</th><td>-122.28</td><td>37.81</td><td>52</td><td>386</td><td>164</td><td>346</td></tr><tr><th>18</th><td>-122.27</td><td>37.81</td><td>40</td><td>880</td><td>451</td><td>582</td></tr><tr><th>19</th><td>-122.27</td><td>37.8</td><td>10</td><td>105</td><td>42</td><td>125</td></tr><tr><th>20</th><td>-122.27</td><td>37.79</td><td>27</td><td>1055</td><td>347</td><td>718</td></tr><tr><th>21</th><td>-122.26</td><td>37.82</td><td>37</td><td>3633</td><td>1085</td><td>1838</td></tr><tr><th>22</th><td>-122.25</td><td>37.83</td><td>52</td><td>1279</td><td>287</td><td>534</td></tr><tr><th>23</th><td>-122.22</td><td>37.85</td><td>28</td><td>5287</td><td>1048</td><td>2031</td></tr><tr><th>24</th><td>-122.21</td><td>37.83</td><td>40</td><td>4991</td><td>674</td><td>1616</td></tr><tr><th>25</th><td>-122.19</td><td>37.84</td><td>18</td><td>1617</td><td>210</td><td>533</td></tr><tr><th>26</th><td>-122.2</td><td>37.83</td><td>26</td><td>1589</td><td>223</td><td>542</td></tr><tr><th>27</th><td>-122.21</td><td>37.8</td><td>50</td><td>2833</td><td>605</td><td>1260</td></tr><tr><th>28</th><td>-122.21</td><td>37.8</td><td>38</td><td>2254</td><td>535</td><td>951</td></tr><tr><th>29</th><td>-122.21</td><td>37.81</td><td>52</td><td>1389</td><td>212</td><td>510</td></tr><tr><th>30</th><td>-122.22</td><td>37.8</td><td>52</td><td>2286</td><td>464</td><td>1073</td></tr><tr><th>&vellip;</th><td>&vellip;</td><td>&vellip;</td><td>&vellip;</td><td>&vellip;</td><td>&vellip;</td><td>&vellip;</td></tr></tbody></table>"
      ],
      "text/latex": [
       "\\begin{tabular}{r|ccccccc}\n",
       "\t& longitude & latitude & housing\\_median\\_age & total\\_rooms & total\\_bedrooms & population & \\\\\n",
       "\t\\hline\n",
       "\t& Float64 & Float64 & Int64 & Int64 & Int64 & Int64 & \\\\\n",
       "\t\\hline\n",
       "\t1 & -122.25 & 37.85 & 52 & 1274 & 235 & 558 & $\\dots$ \\\\\n",
       "\t2 & -122.25 & 37.84 & 52 & 2535 & 489 & 1094 & $\\dots$ \\\\\n",
       "\t3 & -122.27 & 37.85 & 52 & 1966 & 347 & 793 & $\\dots$ \\\\\n",
       "\t4 & -122.26 & 37.84 & 50 & 2239 & 455 & 990 & $\\dots$ \\\\\n",
       "\t5 & -122.27 & 37.83 & 49 & 1655 & 366 & 754 & $\\dots$ \\\\\n",
       "\t6 & -122.26 & 37.83 & 52 & 1665 & 419 & 946 & $\\dots$ \\\\\n",
       "\t7 & -122.27 & 37.82 & 43 & 1007 & 312 & 558 & $\\dots$ \\\\\n",
       "\t8 & -122.26 & 37.82 & 40 & 624 & 195 & 423 & $\\dots$ \\\\\n",
       "\t9 & -122.27 & 37.82 & 43 & 1868 & 456 & 1061 & $\\dots$ \\\\\n",
       "\t10 & -122.27 & 37.82 & 52 & 1630 & 456 & 1162 & $\\dots$ \\\\\n",
       "\t11 & -122.28 & 37.82 & 52 & 1170 & 235 & 701 & $\\dots$ \\\\\n",
       "\t12 & -122.28 & 37.82 & 52 & 1238 & 288 & 622 & $\\dots$ \\\\\n",
       "\t13 & -122.29 & 37.81 & 49 & 844 & 204 & 560 & $\\dots$ \\\\\n",
       "\t14 & -122.28 & 37.81 & 17 & 1237 & 462 & 762 & $\\dots$ \\\\\n",
       "\t15 & -122.29 & 37.81 & 23 & 1745 & 374 & 1054 & $\\dots$ \\\\\n",
       "\t16 & -122.27 & 37.81 & 52 & 210 & 56 & 183 & $\\dots$ \\\\\n",
       "\t17 & -122.28 & 37.81 & 52 & 386 & 164 & 346 & $\\dots$ \\\\\n",
       "\t18 & -122.27 & 37.81 & 40 & 880 & 451 & 582 & $\\dots$ \\\\\n",
       "\t19 & -122.27 & 37.8 & 10 & 105 & 42 & 125 & $\\dots$ \\\\\n",
       "\t20 & -122.27 & 37.79 & 27 & 1055 & 347 & 718 & $\\dots$ \\\\\n",
       "\t21 & -122.26 & 37.82 & 37 & 3633 & 1085 & 1838 & $\\dots$ \\\\\n",
       "\t22 & -122.25 & 37.83 & 52 & 1279 & 287 & 534 & $\\dots$ \\\\\n",
       "\t23 & -122.22 & 37.85 & 28 & 5287 & 1048 & 2031 & $\\dots$ \\\\\n",
       "\t24 & -122.21 & 37.83 & 40 & 4991 & 674 & 1616 & $\\dots$ \\\\\n",
       "\t25 & -122.19 & 37.84 & 18 & 1617 & 210 & 533 & $\\dots$ \\\\\n",
       "\t26 & -122.2 & 37.83 & 26 & 1589 & 223 & 542 & $\\dots$ \\\\\n",
       "\t27 & -122.21 & 37.8 & 50 & 2833 & 605 & 1260 & $\\dots$ \\\\\n",
       "\t28 & -122.21 & 37.8 & 38 & 2254 & 535 & 951 & $\\dots$ \\\\\n",
       "\t29 & -122.21 & 37.81 & 52 & 1389 & 212 & 510 & $\\dots$ \\\\\n",
       "\t30 & -122.22 & 37.8 & 52 & 2286 & 464 & 1073 & $\\dots$ \\\\\n",
       "\t$\\dots$ & $\\dots$ & $\\dots$ & $\\dots$ & $\\dots$ & $\\dots$ & $\\dots$ &  \\\\\n",
       "\\end{tabular}\n"
      ],
      "text/plain": [
       "\u001b[1m3937×13 DataFrame\u001b[0m\n",
       "\u001b[1m  Row \u001b[0m│\u001b[1m longitude \u001b[0m\u001b[1m latitude \u001b[0m\u001b[1m housing_median_age \u001b[0m\u001b[1m total_rooms \u001b[0m\u001b[1m total_bedrooms \u001b[0m\u001b[1m \u001b[0m ⋯\n",
       "\u001b[1m      \u001b[0m│\u001b[90m Float64   \u001b[0m\u001b[90m Float64  \u001b[0m\u001b[90m Int64              \u001b[0m\u001b[90m Int64       \u001b[0m\u001b[90m Int64          \u001b[0m\u001b[90m \u001b[0m ⋯\n",
       "──────┼─────────────────────────────────────────────────────────────────────────\n",
       "    1 │   -122.25     37.85                  52         1274             235   ⋯\n",
       "    2 │   -122.25     37.84                  52         2535             489\n",
       "    3 │   -122.27     37.85                  52         1966             347\n",
       "    4 │   -122.26     37.84                  50         2239             455\n",
       "    5 │   -122.27     37.83                  49         1655             366   ⋯\n",
       "    6 │   -122.26     37.83                  52         1665             419\n",
       "    7 │   -122.27     37.82                  43         1007             312\n",
       "    8 │   -122.26     37.82                  40          624             195\n",
       "    9 │   -122.27     37.82                  43         1868             456   ⋯\n",
       "   10 │   -122.27     37.82                  52         1630             456\n",
       "   11 │   -122.28     37.82                  52         1170             235\n",
       "  ⋮   │     ⋮         ⋮              ⋮                ⋮             ⋮          ⋱\n",
       " 3928 │   -121.57     39.16                  33         2033             375\n",
       " 3929 │   -121.54     39.12                  17         4251             899   ⋯\n",
       " 3930 │   -121.58     39.12                  26         2796             629\n",
       " 3931 │   -121.57     39.1                   28         1442             333\n",
       " 3932 │   -121.54     39.08                  26         2276             460\n",
       " 3933 │   -121.44     39.0                   20          755             147   ⋯\n",
       " 3934 │   -121.41     39.04                  16         1698             300\n",
       " 3935 │   -121.45     39.26                  15         2319             416\n",
       " 3936 │   -121.09     39.48                  25         1665             374\n",
       " 3937 │   -121.24     39.37                  16         2785             616   ⋯\n",
       "\u001b[36m                                                 8 columns and 3916 rows omitted\u001b[0m"
      ]
     },
     "execution_count": 8,
     "metadata": {},
     "output_type": "execute_result"
    }
   ],
   "source": [
    "train_df_y = train_df.median_house_value\n",
    "test_df_y = test_df.median_house_value\n",
    "\n",
    "train_df = select!(train_df, Not(:median_house_value))\n",
    "test_df = select!(test_df, Not(:median_house_value))"
   ]
  },
  {
   "cell_type": "code",
   "execution_count": 9,
   "id": "be24e5af",
   "metadata": {},
   "outputs": [
    {
     "data": {
      "text/html": [
       "<table class=\"data-frame\"><thead><tr><th></th><th>longitude</th><th>latitude</th><th>housing_median_age</th><th>total_rooms</th><th>total_bedrooms</th><th>population</th></tr><tr><th></th><th>Float64</th><th>Float64</th><th>Int64</th><th>Int64</th><th>Int64</th><th>Int64</th></tr></thead><tbody><p>3,937 rows × 13 columns (omitted printing of 7 columns)</p><tr><th>1</th><td>-122.25</td><td>37.85</td><td>52</td><td>1274</td><td>235</td><td>558</td></tr><tr><th>2</th><td>-122.25</td><td>37.84</td><td>52</td><td>2535</td><td>489</td><td>1094</td></tr><tr><th>3</th><td>-122.27</td><td>37.85</td><td>52</td><td>1966</td><td>347</td><td>793</td></tr><tr><th>4</th><td>-122.26</td><td>37.84</td><td>50</td><td>2239</td><td>455</td><td>990</td></tr><tr><th>5</th><td>-122.27</td><td>37.83</td><td>49</td><td>1655</td><td>366</td><td>754</td></tr><tr><th>6</th><td>-122.26</td><td>37.83</td><td>52</td><td>1665</td><td>419</td><td>946</td></tr><tr><th>7</th><td>-122.27</td><td>37.82</td><td>43</td><td>1007</td><td>312</td><td>558</td></tr><tr><th>8</th><td>-122.26</td><td>37.82</td><td>40</td><td>624</td><td>195</td><td>423</td></tr><tr><th>9</th><td>-122.27</td><td>37.82</td><td>43</td><td>1868</td><td>456</td><td>1061</td></tr><tr><th>10</th><td>-122.27</td><td>37.82</td><td>52</td><td>1630</td><td>456</td><td>1162</td></tr><tr><th>11</th><td>-122.28</td><td>37.82</td><td>52</td><td>1170</td><td>235</td><td>701</td></tr><tr><th>12</th><td>-122.28</td><td>37.82</td><td>52</td><td>1238</td><td>288</td><td>622</td></tr><tr><th>13</th><td>-122.29</td><td>37.81</td><td>49</td><td>844</td><td>204</td><td>560</td></tr><tr><th>14</th><td>-122.28</td><td>37.81</td><td>17</td><td>1237</td><td>462</td><td>762</td></tr><tr><th>15</th><td>-122.29</td><td>37.81</td><td>23</td><td>1745</td><td>374</td><td>1054</td></tr><tr><th>16</th><td>-122.27</td><td>37.81</td><td>52</td><td>210</td><td>56</td><td>183</td></tr><tr><th>17</th><td>-122.28</td><td>37.81</td><td>52</td><td>386</td><td>164</td><td>346</td></tr><tr><th>18</th><td>-122.27</td><td>37.81</td><td>40</td><td>880</td><td>451</td><td>582</td></tr><tr><th>19</th><td>-122.27</td><td>37.8</td><td>10</td><td>105</td><td>42</td><td>125</td></tr><tr><th>20</th><td>-122.27</td><td>37.79</td><td>27</td><td>1055</td><td>347</td><td>718</td></tr><tr><th>21</th><td>-122.26</td><td>37.82</td><td>37</td><td>3633</td><td>1085</td><td>1838</td></tr><tr><th>22</th><td>-122.25</td><td>37.83</td><td>52</td><td>1279</td><td>287</td><td>534</td></tr><tr><th>23</th><td>-122.22</td><td>37.85</td><td>28</td><td>5287</td><td>1048</td><td>2031</td></tr><tr><th>24</th><td>-122.21</td><td>37.83</td><td>40</td><td>4991</td><td>674</td><td>1616</td></tr><tr><th>25</th><td>-122.19</td><td>37.84</td><td>18</td><td>1617</td><td>210</td><td>533</td></tr><tr><th>26</th><td>-122.2</td><td>37.83</td><td>26</td><td>1589</td><td>223</td><td>542</td></tr><tr><th>27</th><td>-122.21</td><td>37.8</td><td>50</td><td>2833</td><td>605</td><td>1260</td></tr><tr><th>28</th><td>-122.21</td><td>37.8</td><td>38</td><td>2254</td><td>535</td><td>951</td></tr><tr><th>29</th><td>-122.21</td><td>37.81</td><td>52</td><td>1389</td><td>212</td><td>510</td></tr><tr><th>30</th><td>-122.22</td><td>37.8</td><td>52</td><td>2286</td><td>464</td><td>1073</td></tr><tr><th>&vellip;</th><td>&vellip;</td><td>&vellip;</td><td>&vellip;</td><td>&vellip;</td><td>&vellip;</td><td>&vellip;</td></tr></tbody></table>"
      ],
      "text/latex": [
       "\\begin{tabular}{r|ccccccc}\n",
       "\t& longitude & latitude & housing\\_median\\_age & total\\_rooms & total\\_bedrooms & population & \\\\\n",
       "\t\\hline\n",
       "\t& Float64 & Float64 & Int64 & Int64 & Int64 & Int64 & \\\\\n",
       "\t\\hline\n",
       "\t1 & -122.25 & 37.85 & 52 & 1274 & 235 & 558 & $\\dots$ \\\\\n",
       "\t2 & -122.25 & 37.84 & 52 & 2535 & 489 & 1094 & $\\dots$ \\\\\n",
       "\t3 & -122.27 & 37.85 & 52 & 1966 & 347 & 793 & $\\dots$ \\\\\n",
       "\t4 & -122.26 & 37.84 & 50 & 2239 & 455 & 990 & $\\dots$ \\\\\n",
       "\t5 & -122.27 & 37.83 & 49 & 1655 & 366 & 754 & $\\dots$ \\\\\n",
       "\t6 & -122.26 & 37.83 & 52 & 1665 & 419 & 946 & $\\dots$ \\\\\n",
       "\t7 & -122.27 & 37.82 & 43 & 1007 & 312 & 558 & $\\dots$ \\\\\n",
       "\t8 & -122.26 & 37.82 & 40 & 624 & 195 & 423 & $\\dots$ \\\\\n",
       "\t9 & -122.27 & 37.82 & 43 & 1868 & 456 & 1061 & $\\dots$ \\\\\n",
       "\t10 & -122.27 & 37.82 & 52 & 1630 & 456 & 1162 & $\\dots$ \\\\\n",
       "\t11 & -122.28 & 37.82 & 52 & 1170 & 235 & 701 & $\\dots$ \\\\\n",
       "\t12 & -122.28 & 37.82 & 52 & 1238 & 288 & 622 & $\\dots$ \\\\\n",
       "\t13 & -122.29 & 37.81 & 49 & 844 & 204 & 560 & $\\dots$ \\\\\n",
       "\t14 & -122.28 & 37.81 & 17 & 1237 & 462 & 762 & $\\dots$ \\\\\n",
       "\t15 & -122.29 & 37.81 & 23 & 1745 & 374 & 1054 & $\\dots$ \\\\\n",
       "\t16 & -122.27 & 37.81 & 52 & 210 & 56 & 183 & $\\dots$ \\\\\n",
       "\t17 & -122.28 & 37.81 & 52 & 386 & 164 & 346 & $\\dots$ \\\\\n",
       "\t18 & -122.27 & 37.81 & 40 & 880 & 451 & 582 & $\\dots$ \\\\\n",
       "\t19 & -122.27 & 37.8 & 10 & 105 & 42 & 125 & $\\dots$ \\\\\n",
       "\t20 & -122.27 & 37.79 & 27 & 1055 & 347 & 718 & $\\dots$ \\\\\n",
       "\t21 & -122.26 & 37.82 & 37 & 3633 & 1085 & 1838 & $\\dots$ \\\\\n",
       "\t22 & -122.25 & 37.83 & 52 & 1279 & 287 & 534 & $\\dots$ \\\\\n",
       "\t23 & -122.22 & 37.85 & 28 & 5287 & 1048 & 2031 & $\\dots$ \\\\\n",
       "\t24 & -122.21 & 37.83 & 40 & 4991 & 674 & 1616 & $\\dots$ \\\\\n",
       "\t25 & -122.19 & 37.84 & 18 & 1617 & 210 & 533 & $\\dots$ \\\\\n",
       "\t26 & -122.2 & 37.83 & 26 & 1589 & 223 & 542 & $\\dots$ \\\\\n",
       "\t27 & -122.21 & 37.8 & 50 & 2833 & 605 & 1260 & $\\dots$ \\\\\n",
       "\t28 & -122.21 & 37.8 & 38 & 2254 & 535 & 951 & $\\dots$ \\\\\n",
       "\t29 & -122.21 & 37.81 & 52 & 1389 & 212 & 510 & $\\dots$ \\\\\n",
       "\t30 & -122.22 & 37.8 & 52 & 2286 & 464 & 1073 & $\\dots$ \\\\\n",
       "\t$\\dots$ & $\\dots$ & $\\dots$ & $\\dots$ & $\\dots$ & $\\dots$ & $\\dots$ &  \\\\\n",
       "\\end{tabular}\n"
      ],
      "text/plain": [
       "\u001b[1m3937×13 DataFrame\u001b[0m\n",
       "\u001b[1m  Row \u001b[0m│\u001b[1m longitude \u001b[0m\u001b[1m latitude \u001b[0m\u001b[1m housing_median_age \u001b[0m\u001b[1m total_rooms \u001b[0m\u001b[1m total_bedrooms \u001b[0m\u001b[1m \u001b[0m ⋯\n",
       "\u001b[1m      \u001b[0m│\u001b[90m Float64   \u001b[0m\u001b[90m Float64  \u001b[0m\u001b[90m Int64              \u001b[0m\u001b[90m Int64       \u001b[0m\u001b[90m Int64          \u001b[0m\u001b[90m \u001b[0m ⋯\n",
       "──────┼─────────────────────────────────────────────────────────────────────────\n",
       "    1 │   -122.25     37.85                  52         1274             235   ⋯\n",
       "    2 │   -122.25     37.84                  52         2535             489\n",
       "    3 │   -122.27     37.85                  52         1966             347\n",
       "    4 │   -122.26     37.84                  50         2239             455\n",
       "    5 │   -122.27     37.83                  49         1655             366   ⋯\n",
       "    6 │   -122.26     37.83                  52         1665             419\n",
       "    7 │   -122.27     37.82                  43         1007             312\n",
       "    8 │   -122.26     37.82                  40          624             195\n",
       "    9 │   -122.27     37.82                  43         1868             456   ⋯\n",
       "   10 │   -122.27     37.82                  52         1630             456\n",
       "   11 │   -122.28     37.82                  52         1170             235\n",
       "  ⋮   │     ⋮         ⋮              ⋮                ⋮             ⋮          ⋱\n",
       " 3928 │   -121.57     39.16                  33         2033             375\n",
       " 3929 │   -121.54     39.12                  17         4251             899   ⋯\n",
       " 3930 │   -121.58     39.12                  26         2796             629\n",
       " 3931 │   -121.57     39.1                   28         1442             333\n",
       " 3932 │   -121.54     39.08                  26         2276             460\n",
       " 3933 │   -121.44     39.0                   20          755             147   ⋯\n",
       " 3934 │   -121.41     39.04                  16         1698             300\n",
       " 3935 │   -121.45     39.26                  15         2319             416\n",
       " 3936 │   -121.09     39.48                  25         1665             374\n",
       " 3937 │   -121.24     39.37                  16         2785             616   ⋯\n",
       "\u001b[36m                                                 8 columns and 3916 rows omitted\u001b[0m"
      ]
     },
     "execution_count": 9,
     "metadata": {},
     "output_type": "execute_result"
    }
   ],
   "source": [
    "test_df"
   ]
  },
  {
   "cell_type": "code",
   "execution_count": 10,
   "id": "e86a7700",
   "metadata": {},
   "outputs": [
    {
     "data": {
      "text/html": [
       "<table class=\"data-frame\"><thead><tr><th></th><th>longitude</th><th>latitude</th><th>housing_median_age</th><th>total_rooms</th><th>total_bedrooms</th><th>population</th></tr><tr><th></th><th>Float64</th><th>Float64</th><th>Int64</th><th>Int64</th><th>Int64</th><th>Int64</th></tr></thead><tbody><p>16,496 rows × 13 columns (omitted printing of 7 columns)</p><tr><th>1</th><td>-122.23</td><td>37.88</td><td>41</td><td>880</td><td>129</td><td>322</td></tr><tr><th>2</th><td>-122.22</td><td>37.86</td><td>21</td><td>7099</td><td>1106</td><td>2401</td></tr><tr><th>3</th><td>-122.24</td><td>37.85</td><td>52</td><td>1467</td><td>190</td><td>496</td></tr><tr><th>4</th><td>-122.25</td><td>37.85</td><td>52</td><td>1627</td><td>280</td><td>565</td></tr><tr><th>5</th><td>-122.25</td><td>37.85</td><td>52</td><td>919</td><td>213</td><td>413</td></tr><tr><th>6</th><td>-122.25</td><td>37.84</td><td>52</td><td>3104</td><td>687</td><td>1157</td></tr><tr><th>7</th><td>-122.26</td><td>37.84</td><td>42</td><td>2555</td><td>665</td><td>1206</td></tr><tr><th>8</th><td>-122.25</td><td>37.84</td><td>52</td><td>3549</td><td>707</td><td>1551</td></tr><tr><th>9</th><td>-122.26</td><td>37.85</td><td>52</td><td>2202</td><td>434</td><td>910</td></tr><tr><th>10</th><td>-122.26</td><td>37.85</td><td>52</td><td>3503</td><td>752</td><td>1504</td></tr><tr><th>11</th><td>-122.26</td><td>37.85</td><td>52</td><td>2491</td><td>474</td><td>1098</td></tr><tr><th>12</th><td>-122.26</td><td>37.84</td><td>52</td><td>696</td><td>191</td><td>345</td></tr><tr><th>13</th><td>-122.26</td><td>37.85</td><td>52</td><td>2643</td><td>626</td><td>1212</td></tr><tr><th>14</th><td>-122.26</td><td>37.85</td><td>50</td><td>1120</td><td>283</td><td>697</td></tr><tr><th>15</th><td>-122.27</td><td>37.85</td><td>52</td><td>1228</td><td>293</td><td>648</td></tr><tr><th>16</th><td>-122.27</td><td>37.84</td><td>52</td><td>1503</td><td>298</td><td>690</td></tr><tr><th>17</th><td>-122.27</td><td>37.85</td><td>40</td><td>751</td><td>184</td><td>409</td></tr><tr><th>18</th><td>-122.27</td><td>37.85</td><td>42</td><td>1639</td><td>367</td><td>929</td></tr><tr><th>19</th><td>-122.27</td><td>37.84</td><td>52</td><td>2436</td><td>541</td><td>1015</td></tr><tr><th>20</th><td>-122.27</td><td>37.84</td><td>52</td><td>1688</td><td>337</td><td>853</td></tr><tr><th>21</th><td>-122.27</td><td>37.84</td><td>52</td><td>2224</td><td>437</td><td>1006</td></tr><tr><th>22</th><td>-122.28</td><td>37.85</td><td>41</td><td>535</td><td>123</td><td>317</td></tr><tr><th>23</th><td>-122.28</td><td>37.85</td><td>49</td><td>1130</td><td>244</td><td>607</td></tr><tr><th>24</th><td>-122.28</td><td>37.85</td><td>52</td><td>1898</td><td>421</td><td>1102</td></tr><tr><th>25</th><td>-122.28</td><td>37.84</td><td>50</td><td>2082</td><td>492</td><td>1131</td></tr><tr><th>26</th><td>-122.28</td><td>37.84</td><td>52</td><td>729</td><td>160</td><td>395</td></tr><tr><th>27</th><td>-122.28</td><td>37.84</td><td>49</td><td>1916</td><td>447</td><td>863</td></tr><tr><th>28</th><td>-122.28</td><td>37.84</td><td>52</td><td>2153</td><td>481</td><td>1168</td></tr><tr><th>29</th><td>-122.27</td><td>37.84</td><td>48</td><td>1922</td><td>409</td><td>1026</td></tr><tr><th>30</th><td>-122.27</td><td>37.83</td><td>51</td><td>2665</td><td>574</td><td>1258</td></tr><tr><th>&vellip;</th><td>&vellip;</td><td>&vellip;</td><td>&vellip;</td><td>&vellip;</td><td>&vellip;</td><td>&vellip;</td></tr></tbody></table>"
      ],
      "text/latex": [
       "\\begin{tabular}{r|ccccccc}\n",
       "\t& longitude & latitude & housing\\_median\\_age & total\\_rooms & total\\_bedrooms & population & \\\\\n",
       "\t\\hline\n",
       "\t& Float64 & Float64 & Int64 & Int64 & Int64 & Int64 & \\\\\n",
       "\t\\hline\n",
       "\t1 & -122.23 & 37.88 & 41 & 880 & 129 & 322 & $\\dots$ \\\\\n",
       "\t2 & -122.22 & 37.86 & 21 & 7099 & 1106 & 2401 & $\\dots$ \\\\\n",
       "\t3 & -122.24 & 37.85 & 52 & 1467 & 190 & 496 & $\\dots$ \\\\\n",
       "\t4 & -122.25 & 37.85 & 52 & 1627 & 280 & 565 & $\\dots$ \\\\\n",
       "\t5 & -122.25 & 37.85 & 52 & 919 & 213 & 413 & $\\dots$ \\\\\n",
       "\t6 & -122.25 & 37.84 & 52 & 3104 & 687 & 1157 & $\\dots$ \\\\\n",
       "\t7 & -122.26 & 37.84 & 42 & 2555 & 665 & 1206 & $\\dots$ \\\\\n",
       "\t8 & -122.25 & 37.84 & 52 & 3549 & 707 & 1551 & $\\dots$ \\\\\n",
       "\t9 & -122.26 & 37.85 & 52 & 2202 & 434 & 910 & $\\dots$ \\\\\n",
       "\t10 & -122.26 & 37.85 & 52 & 3503 & 752 & 1504 & $\\dots$ \\\\\n",
       "\t11 & -122.26 & 37.85 & 52 & 2491 & 474 & 1098 & $\\dots$ \\\\\n",
       "\t12 & -122.26 & 37.84 & 52 & 696 & 191 & 345 & $\\dots$ \\\\\n",
       "\t13 & -122.26 & 37.85 & 52 & 2643 & 626 & 1212 & $\\dots$ \\\\\n",
       "\t14 & -122.26 & 37.85 & 50 & 1120 & 283 & 697 & $\\dots$ \\\\\n",
       "\t15 & -122.27 & 37.85 & 52 & 1228 & 293 & 648 & $\\dots$ \\\\\n",
       "\t16 & -122.27 & 37.84 & 52 & 1503 & 298 & 690 & $\\dots$ \\\\\n",
       "\t17 & -122.27 & 37.85 & 40 & 751 & 184 & 409 & $\\dots$ \\\\\n",
       "\t18 & -122.27 & 37.85 & 42 & 1639 & 367 & 929 & $\\dots$ \\\\\n",
       "\t19 & -122.27 & 37.84 & 52 & 2436 & 541 & 1015 & $\\dots$ \\\\\n",
       "\t20 & -122.27 & 37.84 & 52 & 1688 & 337 & 853 & $\\dots$ \\\\\n",
       "\t21 & -122.27 & 37.84 & 52 & 2224 & 437 & 1006 & $\\dots$ \\\\\n",
       "\t22 & -122.28 & 37.85 & 41 & 535 & 123 & 317 & $\\dots$ \\\\\n",
       "\t23 & -122.28 & 37.85 & 49 & 1130 & 244 & 607 & $\\dots$ \\\\\n",
       "\t24 & -122.28 & 37.85 & 52 & 1898 & 421 & 1102 & $\\dots$ \\\\\n",
       "\t25 & -122.28 & 37.84 & 50 & 2082 & 492 & 1131 & $\\dots$ \\\\\n",
       "\t26 & -122.28 & 37.84 & 52 & 729 & 160 & 395 & $\\dots$ \\\\\n",
       "\t27 & -122.28 & 37.84 & 49 & 1916 & 447 & 863 & $\\dots$ \\\\\n",
       "\t28 & -122.28 & 37.84 & 52 & 2153 & 481 & 1168 & $\\dots$ \\\\\n",
       "\t29 & -122.27 & 37.84 & 48 & 1922 & 409 & 1026 & $\\dots$ \\\\\n",
       "\t30 & -122.27 & 37.83 & 51 & 2665 & 574 & 1258 & $\\dots$ \\\\\n",
       "\t$\\dots$ & $\\dots$ & $\\dots$ & $\\dots$ & $\\dots$ & $\\dots$ & $\\dots$ &  \\\\\n",
       "\\end{tabular}\n"
      ],
      "text/plain": [
       "\u001b[1m16496×13 DataFrame\u001b[0m\n",
       "\u001b[1m   Row \u001b[0m│\u001b[1m longitude \u001b[0m\u001b[1m latitude \u001b[0m\u001b[1m housing_median_age \u001b[0m\u001b[1m total_rooms \u001b[0m\u001b[1m total_bedrooms \u001b[0m\u001b[1m\u001b[0m ⋯\n",
       "\u001b[1m       \u001b[0m│\u001b[90m Float64   \u001b[0m\u001b[90m Float64  \u001b[0m\u001b[90m Int64              \u001b[0m\u001b[90m Int64       \u001b[0m\u001b[90m Int64          \u001b[0m\u001b[90m\u001b[0m ⋯\n",
       "───────┼────────────────────────────────────────────────────────────────────────\n",
       "     1 │   -122.23     37.88                  41          880             129  ⋯\n",
       "     2 │   -122.22     37.86                  21         7099            1106\n",
       "     3 │   -122.24     37.85                  52         1467             190\n",
       "     4 │   -122.25     37.85                  52         1627             280\n",
       "     5 │   -122.25     37.85                  52          919             213  ⋯\n",
       "     6 │   -122.25     37.84                  52         3104             687\n",
       "     7 │   -122.26     37.84                  42         2555             665\n",
       "     8 │   -122.25     37.84                  52         3549             707\n",
       "     9 │   -122.26     37.85                  52         2202             434  ⋯\n",
       "    10 │   -122.26     37.85                  52         3503             752\n",
       "    11 │   -122.26     37.85                  52         2491             474\n",
       "   ⋮   │     ⋮         ⋮              ⋮                ⋮             ⋮         ⋱\n",
       " 16487 │   -121.32     39.13                   5          358              65\n",
       " 16488 │   -121.48     39.1                   19         2043             421  ⋯\n",
       " 16489 │   -121.39     39.12                  28        10035            1856\n",
       " 16490 │   -121.32     39.29                  11         2640             505\n",
       " 16491 │   -121.4      39.33                  15         2655             493\n",
       " 16492 │   -121.53     39.19                  27         2080             412  ⋯\n",
       " 16493 │   -121.56     39.27                  28         2332             395\n",
       " 16494 │   -121.21     39.49                  18          697             150\n",
       " 16495 │   -121.22     39.43                  17         2254             485\n",
       " 16496 │   -121.32     39.43                  18         1860             409  ⋯\n",
       "\u001b[36m                                                8 columns and 16475 rows omitted\u001b[0m"
      ]
     },
     "execution_count": 10,
     "metadata": {},
     "output_type": "execute_result"
    }
   ],
   "source": [
    "train_df"
   ]
  },
  {
   "cell_type": "code",
   "execution_count": 11,
   "id": "c1fa4974-5884-4bea-800f-8ac73dc44fcf",
   "metadata": {},
   "outputs": [
    {
     "name": "stderr",
     "output_type": "stream",
     "text": [
      "\u001b[32m\u001b[1m   Resolving\u001b[22m\u001b[39m package versions...\n",
      "\u001b[32m\u001b[1m  No Changes\u001b[22m\u001b[39m to `C:\\Users\\soumi\\.julia\\environments\\v1.10\\Project.toml`\n",
      "\u001b[32m\u001b[1m  No Changes\u001b[22m\u001b[39m to `C:\\Users\\soumi\\.julia\\environments\\v1.10\\Manifest.toml`\n",
      "\u001b[32m\u001b[1mPrecompiling\u001b[22m\u001b[39m project...\n",
      "\u001b[33m  ? \u001b[39mLathe\n",
      "\u001b[32m\u001b[1m   Resolving\u001b[22m\u001b[39m package versions...\n",
      "\u001b[32m\u001b[1m  No Changes\u001b[22m\u001b[39m to `C:\\Users\\soumi\\.julia\\environments\\v1.10\\Project.toml`\n",
      "\u001b[32m\u001b[1m  No Changes\u001b[22m\u001b[39m to `C:\\Users\\soumi\\.julia\\environments\\v1.10\\Manifest.toml`\n",
      "\u001b[32m\u001b[1mPrecompiling\u001b[22m\u001b[39m project...\n",
      "\u001b[33m  ? \u001b[39mLathe\n",
      "\u001b[32m\u001b[1m   Resolving\u001b[22m\u001b[39m package versions...\n",
      "\u001b[32m\u001b[1m  No Changes\u001b[22m\u001b[39m to `C:\\Users\\soumi\\.julia\\environments\\v1.10\\Project.toml`\n",
      "\u001b[32m\u001b[1m  No Changes\u001b[22m\u001b[39m to `C:\\Users\\soumi\\.julia\\environments\\v1.10\\Manifest.toml`\n",
      "\u001b[32m\u001b[1mPrecompiling\u001b[22m\u001b[39m project...\n",
      "\u001b[33m  ? \u001b[39mLathe\n"
     ]
    }
   ],
   "source": [
    "Pkg.add(\"Tables\")\n",
    "Pkg.add(\"MLJ\")\n",
    "Pkg.add(\"Pandas\")"
   ]
  },
  {
   "cell_type": "code",
   "execution_count": 12,
   "id": "ca6a8fa8",
   "metadata": {},
   "outputs": [
    {
     "data": {
      "text/plain": [
       "3937×13 Matrix{Float64}:\n",
       " -122.25  37.85  52.0  1274.0  235.0  …  5.6431  0.0  0.0  0.0  1.0  0.0\n",
       " -122.25  37.84  52.0  2535.0  489.0     3.6591  0.0  0.0  0.0  1.0  0.0\n",
       " -122.27  37.85  52.0  1966.0  347.0     2.775   0.0  0.0  0.0  1.0  0.0\n",
       " -122.26  37.84  50.0  2239.0  455.0     1.9911  0.0  0.0  0.0  1.0  0.0\n",
       " -122.27  37.83  49.0  1655.0  366.0     1.375   0.0  0.0  0.0  1.0  0.0\n",
       " -122.26  37.83  52.0  1665.0  419.0  …  2.0978  0.0  0.0  0.0  1.0  0.0\n",
       " -122.27  37.82  43.0  1007.0  312.0     1.7348  0.0  0.0  0.0  1.0  0.0\n",
       " -122.26  37.82  40.0   624.0  195.0     0.9506  0.0  0.0  0.0  1.0  0.0\n",
       " -122.27  37.82  43.0  1868.0  456.0     1.5045  0.0  0.0  0.0  1.0  0.0\n",
       " -122.27  37.82  52.0  1630.0  456.0     1.2475  0.0  0.0  0.0  1.0  0.0\n",
       " -122.28  37.82  52.0  1170.0  235.0  …  1.6098  0.0  0.0  0.0  1.0  0.0\n",
       " -122.28  37.82  52.0  1238.0  288.0     1.5057  0.0  0.0  0.0  1.0  0.0\n",
       " -122.29  37.81  49.0   844.0  204.0     1.75    0.0  0.0  0.0  1.0  0.0\n",
       "    ⋮                                 ⋱                    ⋮         \n",
       " -121.95  38.65  19.0  1265.0  228.0  …  3.3472  0.0  1.0  0.0  0.0  0.0\n",
       " -121.58  39.15  34.0  1376.0  376.0     1.4946  0.0  1.0  0.0  0.0  0.0\n",
       " -121.57  39.16  33.0  2033.0  375.0     2.6964  0.0  1.0  0.0  0.0  0.0\n",
       " -121.54  39.12  17.0  4251.0  899.0     2.3496  0.0  1.0  0.0  0.0  0.0\n",
       " -121.58  39.12  26.0  2796.0  629.0     1.8355  0.0  1.0  0.0  0.0  0.0\n",
       " -121.57  39.1   28.0  1442.0  333.0  …  1.8413  0.0  1.0  0.0  0.0  0.0\n",
       " -121.54  39.08  26.0  2276.0  460.0     2.4695  0.0  1.0  0.0  0.0  0.0\n",
       " -121.44  39.0   20.0   755.0  147.0     2.4167  0.0  1.0  0.0  0.0  0.0\n",
       " -121.41  39.04  16.0  1698.0  300.0     3.0739  0.0  1.0  0.0  0.0  0.0\n",
       " -121.45  39.26  15.0  2319.0  416.0     3.125   0.0  1.0  0.0  0.0  0.0\n",
       " -121.09  39.48  25.0  1665.0  374.0  …  1.5603  0.0  1.0  0.0  0.0  0.0\n",
       " -121.24  39.37  16.0  2785.0  616.0     2.3886  0.0  1.0  0.0  0.0  0.0"
      ]
     },
     "execution_count": 12,
     "metadata": {},
     "output_type": "execute_result"
    }
   ],
   "source": [
    "using Tables\n",
    "\n",
    "train_mat = Tables.matrix(train_df)\n",
    "test_mat = Tables.matrix(test_df)"
   ]
  },
  {
   "cell_type": "code",
   "execution_count": 13,
   "id": "25b68a88",
   "metadata": {},
   "outputs": [
    {
     "data": {
      "text/plain": [
       "3937×13 Matrix{Float64}:\n",
       " -122.25  37.85  52.0  1274.0  235.0  …  5.6431  0.0  0.0  0.0  1.0  0.0\n",
       " -122.25  37.84  52.0  2535.0  489.0     3.6591  0.0  0.0  0.0  1.0  0.0\n",
       " -122.27  37.85  52.0  1966.0  347.0     2.775   0.0  0.0  0.0  1.0  0.0\n",
       " -122.26  37.84  50.0  2239.0  455.0     1.9911  0.0  0.0  0.0  1.0  0.0\n",
       " -122.27  37.83  49.0  1655.0  366.0     1.375   0.0  0.0  0.0  1.0  0.0\n",
       " -122.26  37.83  52.0  1665.0  419.0  …  2.0978  0.0  0.0  0.0  1.0  0.0\n",
       " -122.27  37.82  43.0  1007.0  312.0     1.7348  0.0  0.0  0.0  1.0  0.0\n",
       " -122.26  37.82  40.0   624.0  195.0     0.9506  0.0  0.0  0.0  1.0  0.0\n",
       " -122.27  37.82  43.0  1868.0  456.0     1.5045  0.0  0.0  0.0  1.0  0.0\n",
       " -122.27  37.82  52.0  1630.0  456.0     1.2475  0.0  0.0  0.0  1.0  0.0\n",
       " -122.28  37.82  52.0  1170.0  235.0  …  1.6098  0.0  0.0  0.0  1.0  0.0\n",
       " -122.28  37.82  52.0  1238.0  288.0     1.5057  0.0  0.0  0.0  1.0  0.0\n",
       " -122.29  37.81  49.0   844.0  204.0     1.75    0.0  0.0  0.0  1.0  0.0\n",
       "    ⋮                                 ⋱                    ⋮         \n",
       " -121.95  38.65  19.0  1265.0  228.0  …  3.3472  0.0  1.0  0.0  0.0  0.0\n",
       " -121.58  39.15  34.0  1376.0  376.0     1.4946  0.0  1.0  0.0  0.0  0.0\n",
       " -121.57  39.16  33.0  2033.0  375.0     2.6964  0.0  1.0  0.0  0.0  0.0\n",
       " -121.54  39.12  17.0  4251.0  899.0     2.3496  0.0  1.0  0.0  0.0  0.0\n",
       " -121.58  39.12  26.0  2796.0  629.0     1.8355  0.0  1.0  0.0  0.0  0.0\n",
       " -121.57  39.1   28.0  1442.0  333.0  …  1.8413  0.0  1.0  0.0  0.0  0.0\n",
       " -121.54  39.08  26.0  2276.0  460.0     2.4695  0.0  1.0  0.0  0.0  0.0\n",
       " -121.44  39.0   20.0   755.0  147.0     2.4167  0.0  1.0  0.0  0.0  0.0\n",
       " -121.41  39.04  16.0  1698.0  300.0     3.0739  0.0  1.0  0.0  0.0  0.0\n",
       " -121.45  39.26  15.0  2319.0  416.0     3.125   0.0  1.0  0.0  0.0  0.0\n",
       " -121.09  39.48  25.0  1665.0  374.0  …  1.5603  0.0  1.0  0.0  0.0  0.0\n",
       " -121.24  39.37  16.0  2785.0  616.0     2.3886  0.0  1.0  0.0  0.0  0.0"
      ]
     },
     "execution_count": 13,
     "metadata": {},
     "output_type": "execute_result"
    }
   ],
   "source": [
    "train_df_mat = Tables.matrix(train_df)\n",
    "test_df_mat = Tables.matrix(test_df)"
   ]
  },
  {
   "cell_type": "code",
   "execution_count": 14,
   "id": "fe2c2cf9",
   "metadata": {},
   "outputs": [
    {
     "data": {
      "text/plain": [
       "(16496, 13)"
      ]
     },
     "execution_count": 14,
     "metadata": {},
     "output_type": "execute_result"
    }
   ],
   "source": [
    "r, c = size(train_df_mat)"
   ]
  },
  {
   "cell_type": "code",
   "execution_count": 15,
   "id": "aaebdc3e-805d-4c7d-99fd-876a4d1290f7",
   "metadata": {},
   "outputs": [
    {
     "data": {
      "text/plain": [
       "(3937, 13)"
      ]
     },
     "execution_count": 15,
     "metadata": {},
     "output_type": "execute_result"
    }
   ],
   "source": [
    "r, c = size(test_df_mat)"
   ]
  },
  {
   "cell_type": "code",
   "execution_count": 16,
   "id": "91f21132",
   "metadata": {},
   "outputs": [
    {
     "data": {
      "text/plain": [
       "13×16496 transpose(::Matrix{Float64}) with eltype Float64:\n",
       " -122.23    -122.22    -122.24    -122.25    …  -121.21    -121.22  -121.32\n",
       "   37.88      37.86      37.85      37.85         39.49      39.43    39.43\n",
       "   41.0       21.0       52.0       52.0          18.0       17.0     18.0\n",
       "  880.0     7099.0     1467.0     1627.0         697.0     2254.0   1860.0\n",
       "  129.0     1106.0      190.0      280.0         150.0      485.0    409.0\n",
       "  322.0     2401.0      496.0      565.0     …   356.0     1007.0    741.0\n",
       "  126.0     1138.0      177.0      259.0         114.0      433.0    349.0\n",
       "    8.3252     8.3014     7.2574     3.8462        2.5568     1.7      1.8672\n",
       "    0.0        0.0        0.0        0.0           0.0        0.0      0.0\n",
       "    0.0        0.0        0.0        0.0           1.0        1.0      1.0\n",
       "    0.0        0.0        0.0        0.0     …     0.0        0.0      0.0\n",
       "    1.0        1.0        1.0        1.0           0.0        0.0      0.0\n",
       "    0.0        0.0        0.0        0.0           0.0        0.0      0.0"
      ]
     },
     "execution_count": 16,
     "metadata": {},
     "output_type": "execute_result"
    }
   ],
   "source": [
    "train_mat_t = Tables.transpose(train_mat)"
   ]
  },
  {
   "cell_type": "code",
   "execution_count": 17,
   "id": "7e375188",
   "metadata": {},
   "outputs": [
    {
     "data": {
      "text/plain": [
       "13-element Vector{Float64}:\n",
       " -26387.07219766639\n",
       " -25025.26196654886\n",
       "   1082.6428629677612\n",
       "     -6.094516223212452\n",
       "    103.7497914032956\n",
       "    -37.095660886659175\n",
       "     43.828545620976\n",
       "  39028.258465254214\n",
       "     -2.2349073380670547e6\n",
       "     -2.274778519109249e6\n",
       "     -2.0985644952344894e6\n",
       "     -2.2389298697555065e6\n",
       "     -2.2303804992661406e6"
      ]
     },
     "execution_count": 17,
     "metadata": {},
     "output_type": "execute_result"
    }
   ],
   "source": [
    "W = inv(train_mat_t * train_mat) * train_mat_t * train_df_y"
   ]
  },
  {
   "cell_type": "code",
   "execution_count": 18,
   "id": "3528cace-4fd0-4824-9fda-73cb1ffc1519",
   "metadata": {},
   "outputs": [
    {
     "data": {
      "text/html": [
       "<table class=\"data-frame\"><thead><tr><th></th><th>longitude</th><th>latitude</th><th>housing_median_age</th><th>total_rooms</th><th>total_bedrooms</th><th>population</th></tr><tr><th></th><th>Float64</th><th>Float64</th><th>Int64</th><th>Int64</th><th>Int64</th><th>Int64</th></tr></thead><tbody><p>3,937 rows × 13 columns (omitted printing of 7 columns)</p><tr><th>1</th><td>-122.25</td><td>37.85</td><td>52</td><td>1274</td><td>235</td><td>558</td></tr><tr><th>2</th><td>-122.25</td><td>37.84</td><td>52</td><td>2535</td><td>489</td><td>1094</td></tr><tr><th>3</th><td>-122.27</td><td>37.85</td><td>52</td><td>1966</td><td>347</td><td>793</td></tr><tr><th>4</th><td>-122.26</td><td>37.84</td><td>50</td><td>2239</td><td>455</td><td>990</td></tr><tr><th>5</th><td>-122.27</td><td>37.83</td><td>49</td><td>1655</td><td>366</td><td>754</td></tr><tr><th>6</th><td>-122.26</td><td>37.83</td><td>52</td><td>1665</td><td>419</td><td>946</td></tr><tr><th>7</th><td>-122.27</td><td>37.82</td><td>43</td><td>1007</td><td>312</td><td>558</td></tr><tr><th>8</th><td>-122.26</td><td>37.82</td><td>40</td><td>624</td><td>195</td><td>423</td></tr><tr><th>9</th><td>-122.27</td><td>37.82</td><td>43</td><td>1868</td><td>456</td><td>1061</td></tr><tr><th>10</th><td>-122.27</td><td>37.82</td><td>52</td><td>1630</td><td>456</td><td>1162</td></tr><tr><th>11</th><td>-122.28</td><td>37.82</td><td>52</td><td>1170</td><td>235</td><td>701</td></tr><tr><th>12</th><td>-122.28</td><td>37.82</td><td>52</td><td>1238</td><td>288</td><td>622</td></tr><tr><th>13</th><td>-122.29</td><td>37.81</td><td>49</td><td>844</td><td>204</td><td>560</td></tr><tr><th>14</th><td>-122.28</td><td>37.81</td><td>17</td><td>1237</td><td>462</td><td>762</td></tr><tr><th>15</th><td>-122.29</td><td>37.81</td><td>23</td><td>1745</td><td>374</td><td>1054</td></tr><tr><th>16</th><td>-122.27</td><td>37.81</td><td>52</td><td>210</td><td>56</td><td>183</td></tr><tr><th>17</th><td>-122.28</td><td>37.81</td><td>52</td><td>386</td><td>164</td><td>346</td></tr><tr><th>18</th><td>-122.27</td><td>37.81</td><td>40</td><td>880</td><td>451</td><td>582</td></tr><tr><th>19</th><td>-122.27</td><td>37.8</td><td>10</td><td>105</td><td>42</td><td>125</td></tr><tr><th>20</th><td>-122.27</td><td>37.79</td><td>27</td><td>1055</td><td>347</td><td>718</td></tr><tr><th>21</th><td>-122.26</td><td>37.82</td><td>37</td><td>3633</td><td>1085</td><td>1838</td></tr><tr><th>22</th><td>-122.25</td><td>37.83</td><td>52</td><td>1279</td><td>287</td><td>534</td></tr><tr><th>23</th><td>-122.22</td><td>37.85</td><td>28</td><td>5287</td><td>1048</td><td>2031</td></tr><tr><th>24</th><td>-122.21</td><td>37.83</td><td>40</td><td>4991</td><td>674</td><td>1616</td></tr><tr><th>25</th><td>-122.19</td><td>37.84</td><td>18</td><td>1617</td><td>210</td><td>533</td></tr><tr><th>26</th><td>-122.2</td><td>37.83</td><td>26</td><td>1589</td><td>223</td><td>542</td></tr><tr><th>27</th><td>-122.21</td><td>37.8</td><td>50</td><td>2833</td><td>605</td><td>1260</td></tr><tr><th>28</th><td>-122.21</td><td>37.8</td><td>38</td><td>2254</td><td>535</td><td>951</td></tr><tr><th>29</th><td>-122.21</td><td>37.81</td><td>52</td><td>1389</td><td>212</td><td>510</td></tr><tr><th>30</th><td>-122.22</td><td>37.8</td><td>52</td><td>2286</td><td>464</td><td>1073</td></tr><tr><th>&vellip;</th><td>&vellip;</td><td>&vellip;</td><td>&vellip;</td><td>&vellip;</td><td>&vellip;</td><td>&vellip;</td></tr></tbody></table>"
      ],
      "text/latex": [
       "\\begin{tabular}{r|ccccccc}\n",
       "\t& longitude & latitude & housing\\_median\\_age & total\\_rooms & total\\_bedrooms & population & \\\\\n",
       "\t\\hline\n",
       "\t& Float64 & Float64 & Int64 & Int64 & Int64 & Int64 & \\\\\n",
       "\t\\hline\n",
       "\t1 & -122.25 & 37.85 & 52 & 1274 & 235 & 558 & $\\dots$ \\\\\n",
       "\t2 & -122.25 & 37.84 & 52 & 2535 & 489 & 1094 & $\\dots$ \\\\\n",
       "\t3 & -122.27 & 37.85 & 52 & 1966 & 347 & 793 & $\\dots$ \\\\\n",
       "\t4 & -122.26 & 37.84 & 50 & 2239 & 455 & 990 & $\\dots$ \\\\\n",
       "\t5 & -122.27 & 37.83 & 49 & 1655 & 366 & 754 & $\\dots$ \\\\\n",
       "\t6 & -122.26 & 37.83 & 52 & 1665 & 419 & 946 & $\\dots$ \\\\\n",
       "\t7 & -122.27 & 37.82 & 43 & 1007 & 312 & 558 & $\\dots$ \\\\\n",
       "\t8 & -122.26 & 37.82 & 40 & 624 & 195 & 423 & $\\dots$ \\\\\n",
       "\t9 & -122.27 & 37.82 & 43 & 1868 & 456 & 1061 & $\\dots$ \\\\\n",
       "\t10 & -122.27 & 37.82 & 52 & 1630 & 456 & 1162 & $\\dots$ \\\\\n",
       "\t11 & -122.28 & 37.82 & 52 & 1170 & 235 & 701 & $\\dots$ \\\\\n",
       "\t12 & -122.28 & 37.82 & 52 & 1238 & 288 & 622 & $\\dots$ \\\\\n",
       "\t13 & -122.29 & 37.81 & 49 & 844 & 204 & 560 & $\\dots$ \\\\\n",
       "\t14 & -122.28 & 37.81 & 17 & 1237 & 462 & 762 & $\\dots$ \\\\\n",
       "\t15 & -122.29 & 37.81 & 23 & 1745 & 374 & 1054 & $\\dots$ \\\\\n",
       "\t16 & -122.27 & 37.81 & 52 & 210 & 56 & 183 & $\\dots$ \\\\\n",
       "\t17 & -122.28 & 37.81 & 52 & 386 & 164 & 346 & $\\dots$ \\\\\n",
       "\t18 & -122.27 & 37.81 & 40 & 880 & 451 & 582 & $\\dots$ \\\\\n",
       "\t19 & -122.27 & 37.8 & 10 & 105 & 42 & 125 & $\\dots$ \\\\\n",
       "\t20 & -122.27 & 37.79 & 27 & 1055 & 347 & 718 & $\\dots$ \\\\\n",
       "\t21 & -122.26 & 37.82 & 37 & 3633 & 1085 & 1838 & $\\dots$ \\\\\n",
       "\t22 & -122.25 & 37.83 & 52 & 1279 & 287 & 534 & $\\dots$ \\\\\n",
       "\t23 & -122.22 & 37.85 & 28 & 5287 & 1048 & 2031 & $\\dots$ \\\\\n",
       "\t24 & -122.21 & 37.83 & 40 & 4991 & 674 & 1616 & $\\dots$ \\\\\n",
       "\t25 & -122.19 & 37.84 & 18 & 1617 & 210 & 533 & $\\dots$ \\\\\n",
       "\t26 & -122.2 & 37.83 & 26 & 1589 & 223 & 542 & $\\dots$ \\\\\n",
       "\t27 & -122.21 & 37.8 & 50 & 2833 & 605 & 1260 & $\\dots$ \\\\\n",
       "\t28 & -122.21 & 37.8 & 38 & 2254 & 535 & 951 & $\\dots$ \\\\\n",
       "\t29 & -122.21 & 37.81 & 52 & 1389 & 212 & 510 & $\\dots$ \\\\\n",
       "\t30 & -122.22 & 37.8 & 52 & 2286 & 464 & 1073 & $\\dots$ \\\\\n",
       "\t$\\dots$ & $\\dots$ & $\\dots$ & $\\dots$ & $\\dots$ & $\\dots$ & $\\dots$ &  \\\\\n",
       "\\end{tabular}\n"
      ],
      "text/plain": [
       "\u001b[1m3937×13 DataFrame\u001b[0m\n",
       "\u001b[1m  Row \u001b[0m│\u001b[1m longitude \u001b[0m\u001b[1m latitude \u001b[0m\u001b[1m housing_median_age \u001b[0m\u001b[1m total_rooms \u001b[0m\u001b[1m total_bedrooms \u001b[0m\u001b[1m \u001b[0m ⋯\n",
       "\u001b[1m      \u001b[0m│\u001b[90m Float64   \u001b[0m\u001b[90m Float64  \u001b[0m\u001b[90m Int64              \u001b[0m\u001b[90m Int64       \u001b[0m\u001b[90m Int64          \u001b[0m\u001b[90m \u001b[0m ⋯\n",
       "──────┼─────────────────────────────────────────────────────────────────────────\n",
       "    1 │   -122.25     37.85                  52         1274             235   ⋯\n",
       "    2 │   -122.25     37.84                  52         2535             489\n",
       "    3 │   -122.27     37.85                  52         1966             347\n",
       "    4 │   -122.26     37.84                  50         2239             455\n",
       "    5 │   -122.27     37.83                  49         1655             366   ⋯\n",
       "    6 │   -122.26     37.83                  52         1665             419\n",
       "    7 │   -122.27     37.82                  43         1007             312\n",
       "    8 │   -122.26     37.82                  40          624             195\n",
       "    9 │   -122.27     37.82                  43         1868             456   ⋯\n",
       "   10 │   -122.27     37.82                  52         1630             456\n",
       "   11 │   -122.28     37.82                  52         1170             235\n",
       "  ⋮   │     ⋮         ⋮              ⋮                ⋮             ⋮          ⋱\n",
       " 3928 │   -121.57     39.16                  33         2033             375\n",
       " 3929 │   -121.54     39.12                  17         4251             899   ⋯\n",
       " 3930 │   -121.58     39.12                  26         2796             629\n",
       " 3931 │   -121.57     39.1                   28         1442             333\n",
       " 3932 │   -121.54     39.08                  26         2276             460\n",
       " 3933 │   -121.44     39.0                   20          755             147   ⋯\n",
       " 3934 │   -121.41     39.04                  16         1698             300\n",
       " 3935 │   -121.45     39.26                  15         2319             416\n",
       " 3936 │   -121.09     39.48                  25         1665             374\n",
       " 3937 │   -121.24     39.37                  16         2785             616   ⋯\n",
       "\u001b[36m                                                 8 columns and 3916 rows omitted\u001b[0m"
      ]
     },
     "execution_count": 18,
     "metadata": {},
     "output_type": "execute_result"
    }
   ],
   "source": [
    "test_df"
   ]
  },
  {
   "cell_type": "code",
   "execution_count": 19,
   "id": "8309390e",
   "metadata": {},
   "outputs": [
    {
     "data": {
      "text/plain": [
       "13×3937 transpose(::Matrix{Float64}) with eltype Float64:\n",
       " -122.25    -122.25    -122.27   -122.26    …  -121.45   -121.09    -121.24\n",
       "   37.85      37.84      37.85     37.84         39.26     39.48      39.37\n",
       "   52.0       52.0       52.0      50.0          15.0      25.0       16.0\n",
       " 1274.0     2535.0     1966.0    2239.0        2319.0    1665.0     2785.0\n",
       "  235.0      489.0      347.0     455.0         416.0     374.0      616.0\n",
       "  558.0     1094.0      793.0     990.0     …  1047.0     845.0     1387.0\n",
       "  219.0      514.0      331.0     419.0         385.0     330.0      530.0\n",
       "    5.6431     3.6591     2.775     1.9911        3.125     1.5603     2.3886\n",
       "    0.0        0.0        0.0       0.0           0.0       0.0        0.0\n",
       "    0.0        0.0        0.0       0.0           1.0       1.0        1.0\n",
       "    0.0        0.0        0.0       0.0     …     0.0       0.0        0.0\n",
       "    1.0        1.0        1.0       1.0           0.0       0.0        0.0\n",
       "    0.0        0.0        0.0       0.0           0.0       0.0        0.0"
      ]
     },
     "execution_count": 19,
     "metadata": {},
     "output_type": "execute_result"
    }
   ],
   "source": [
    "test_mat = Tables.matrix(test_df)\n",
    "test_mat_t = Tables.transpose(test_mat)"
   ]
  },
  {
   "cell_type": "code",
   "execution_count": 20,
   "id": "d980a0a7",
   "metadata": {},
   "outputs": [
    {
     "data": {
      "text/plain": [
       "(3937, 13)"
      ]
     },
     "execution_count": 20,
     "metadata": {},
     "output_type": "execute_result"
    }
   ],
   "source": [
    "size(test_mat)"
   ]
  },
  {
   "cell_type": "code",
   "execution_count": 21,
   "id": "2faf6812-4389-4eb3-802d-61b3f2f6973d",
   "metadata": {},
   "outputs": [
    {
     "data": {
      "text/plain": [
       "(13,)"
      ]
     },
     "execution_count": 21,
     "metadata": {},
     "output_type": "execute_result"
    }
   ],
   "source": [
    "size(W)"
   ]
  },
  {
   "cell_type": "code",
   "execution_count": 22,
   "id": "26b16043",
   "metadata": {},
   "outputs": [
    {
     "data": {
      "text/plain": [
       "3937-element Vector{Float64}:\n",
       " 321737.19522257475\n",
       " 256268.79182908125\n",
       " 213921.87677422306\n",
       " 187238.9624976567\n",
       " 161760.60583871417\n",
       " 194162.39982721535\n",
       " 171843.9065198265\n",
       " 128853.48051674757\n",
       " 160638.76868880726\n",
       " 157749.32532217214\n",
       " 161809.64019870711\n",
       " 166901.20972986193\n",
       " 164998.5415332592\n",
       "      ⋮\n",
       " 124596.94991387287\n",
       "  67240.56739962939\n",
       " 101145.60625360906\n",
       "  50605.51524588186\n",
       "  55254.597658411134\n",
       "  64218.59987748694\n",
       "  79502.32601523958\n",
       "  70232.98559733573\n",
       "  95594.56628071936\n",
       "  92704.1283569471\n",
       "  32169.213203234598\n",
       "  68404.82584249089"
      ]
     },
     "execution_count": 22,
     "metadata": {},
     "output_type": "execute_result"
    }
   ],
   "source": [
    "Y_pred  = test_mat * W"
   ]
  },
  {
   "cell_type": "code",
   "execution_count": 23,
   "id": "c6cce583",
   "metadata": {},
   "outputs": [
    {
     "data": {
      "text/plain": [
       "3937-element Vector{Int64}:\n",
       " 341300\n",
       " 299200\n",
       " 152500\n",
       " 158700\n",
       " 104900\n",
       " 155400\n",
       " 137500\n",
       " 187500\n",
       "  93800\n",
       " 104200\n",
       "  87500\n",
       "  87500\n",
       "  75000\n",
       "      ⋮\n",
       "  69800\n",
       "  55500\n",
       "  68500\n",
       "  65000\n",
       "  61200\n",
       "  62300\n",
       "  58000\n",
       "  67000\n",
       "  87200\n",
       " 115600\n",
       "  78100\n",
       "  89400"
      ]
     },
     "execution_count": 23,
     "metadata": {},
     "output_type": "execute_result"
    }
   ],
   "source": [
    "test_df_y"
   ]
  },
  {
   "cell_type": "code",
   "execution_count": 24,
   "id": "4f22916c",
   "metadata": {},
   "outputs": [
    {
     "name": "stdout",
     "output_type": "stream",
     "text": [
      "rmse_value = 69451.18984220205\n"
     ]
    },
    {
     "data": {
      "text/plain": [
       "69451.18984220205"
      ]
     },
     "execution_count": 24,
     "metadata": {},
     "output_type": "execute_result"
    }
   ],
   "source": [
    "function RMSE(arr1, arr2)\n",
    "    @assert length(arr1) == length(arr2)\n",
    "    return sqrt(sum((arr1 .- arr2).^2) / length(arr1))\n",
    "end\n",
    "\n",
    "rmse_value = RMSE(Y_pred, test_df_y)\n",
    "@show rmse_value"
   ]
  },
  {
   "cell_type": "code",
   "execution_count": 25,
   "id": "0490aeaa",
   "metadata": {},
   "outputs": [
    {
     "name": "stdout",
     "output_type": "stream",
     "text": [
      "R-squared:0.6040885336555603\n"
     ]
    }
   ],
   "source": [
    "SSₜ = sum((test_df_y .- mean(test_df_y)).^2)\n",
    "\n",
    "SSᵣ = sum((Y_pred .- mean(test_df_y)).^2)\n",
    "\n",
    "R² = SSᵣ / SSₜ\n",
    "\n",
    "println(\"R-squared:\", R²)"
   ]
  }
 ],
 "metadata": {
  "kernelspec": {
   "display_name": "Julia 1.10.3",
   "language": "julia",
   "name": "julia-1.10"
  },
  "language_info": {
   "file_extension": ".jl",
   "mimetype": "application/julia",
   "name": "julia",
   "version": "1.10.3"
  }
 },
 "nbformat": 4,
 "nbformat_minor": 5
}
